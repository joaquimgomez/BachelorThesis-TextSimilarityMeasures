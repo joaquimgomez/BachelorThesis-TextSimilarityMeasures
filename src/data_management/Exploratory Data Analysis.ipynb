{
 "cells": [
  {
   "cell_type": "markdown",
   "metadata": {},
   "source": [
    "# Exploratory Data Analysis of Corpus, Preprocessed Data and Dataset"
   ]
  },
  {
   "cell_type": "code",
   "execution_count": 2,
   "metadata": {},
   "outputs": [],
   "source": [
    "%matplotlib inline\n",
    "\n",
    "from os import listdir, mkdir\n",
    "from os.path import isfile, join\n",
    "from wordcloud import WordCloud\n",
    "from nltk.tokenize import word_tokenize\n",
    "from nltk.probability import FreqDist\n",
    "import matplotlib.pyplot as plt\n",
    "import pylab\n",
    "import string"
   ]
  },
  {
   "cell_type": "markdown",
   "metadata": {},
   "source": [
    "## Functions"
   ]
  },
  {
   "cell_type": "markdown",
   "metadata": {},
   "source": [
    "### Zipf's Law"
   ]
  },
  {
   "cell_type": "markdown",
   "metadata": {},
   "source": [
    "Code adapted from https://github.com/scattana/zipfs-law."
   ]
  },
  {
   "cell_type": "code",
   "execution_count": 3,
   "metadata": {},
   "outputs": [],
   "source": [
    "def zipf(text):\n",
    "    fdis = dict(FreqDist(text))\n",
    "    freq = [item[1] for item in sorted(fdis.items(), key=lambda kv: kv[1], reverse=True)]\n",
    "    rank = [item+1 for item in range(len(sorted(fdis.items(), key=lambda kv: kv[1], reverse=True)))]\n",
    "    \n",
    "    # plot freq vs rank using pylab\n",
    "    pylab.figure()\n",
    "    pylab.plot(rank, freq)\n",
    "\n",
    "    # change plot to log scale to visually confirm Zipf's Law\n",
    "    pylab.xscale(\"log\")\n",
    "    pylab.yscale(\"log\")\n",
    "\n",
    "    # add axis labels, title, and legend\n",
    "    pylab.xlabel('Rank')\n",
    "    pylab.ylabel('Frequency')\n",
    "    pylab.title('Logorithmic Frequency vs Rank for Words in a Text')\n",
    "    pylab.legend(loc='upper right')"
   ]
  },
  {
   "cell_type": "markdown",
   "metadata": {},
   "source": [
    "### Most and less frequent words"
   ]
  },
  {
   "cell_type": "code",
   "execution_count": 4,
   "metadata": {},
   "outputs": [],
   "source": [
    "def mostAndLess(text):\n",
    "    words = word_tokenize(text)\n",
    "    wordDist = FreqDist(w.lower() for w in words)\n",
    "    \n",
    "    mc = wordDist.most_common()\n",
    "    most = mc[0:20]\n",
    "    less = mc[-21:]\n",
    "\n",
    "    print(\"20 MOST FREQUENT WORDS:\")\n",
    "    print(most)\n",
    "    \n",
    "    print(\"--------\")\n",
    "        \n",
    "    print(\"20 LESS FREQUENT WORDS:\")\n",
    "    print(less)\n",
    "    "
   ]
  },
  {
   "cell_type": "markdown",
   "metadata": {},
   "source": [
    "## Corpus Analysis"
   ]
  },
  {
   "cell_type": "markdown",
   "metadata": {},
   "source": [
    "### Most frequent word cloud"
   ]
  },
  {
   "cell_type": "code",
   "execution_count": 5,
   "metadata": {},
   "outputs": [],
   "source": [
    "foldersPath = \"../../data/classified_org_txt/\"\n",
    "folders = [(folder, join(foldersPath, folder)) for folder in listdir(foldersPath) if not isfile(join(foldersPath, folder)) and not folder.startswith('.')]\n",
    "\n",
    "foldersContent = {}\n",
    "totalCorpus = \"\"\n",
    "for (folder, folderPath) in folders:\n",
    "    files = [(file, join(folderPath, file)) for file in listdir(folderPath) if isfile(join(folderPath, file)) and not file.startswith('.')]\n",
    "    \n",
    "    texts = \"\"\n",
    "    for (file, filePath) in files:\n",
    "        with open(filePath, 'r') as f:\n",
    "            texts = texts + f.read()\n",
    "            \n",
    "    totalCorpus = totalCorpus + texts\n",
    "    \n",
    "    foldersContent[folder] = texts"
   ]
  },
  {
   "cell_type": "code",
   "execution_count": 6,
   "metadata": {},
   "outputs": [],
   "source": [
    "clouds = {}\n",
    "for group in foldersContent:\n",
    "    clouds[group] = WordCloud(width=1024, height=512, background_color=\"white\", max_words=30).generate(foldersContent[group])"
   ]
  },
  {
   "cell_type": "code",
   "execution_count": null,
   "metadata": {},
   "outputs": [],
   "source": [
    "fig = plt.figure(figsize=(12,12), dpi=250)\n",
    "i = 1\n",
    "for group in clouds:\n",
    "    ax = fig.add_subplot(6,3,i)\n",
    "    ax.imshow(clouds[group])\n",
    "    ax.title.set_text(str(group))\n",
    "    ax.axis('off')\n",
    "    \n",
    "    i = i + 1\n",
    "    \n",
    "plt.savefig('words_not_preprocessed.png', bbox_inches = 'tight', pad_inches = 2)"
   ]
  },
  {
   "cell_type": "markdown",
   "metadata": {},
   "source": [
    "### Zipf's Law"
   ]
  },
  {
   "cell_type": "code",
   "execution_count": 8,
   "metadata": {},
   "outputs": [
    {
     "name": "stderr",
     "output_type": "stream",
     "text": [
      "No handles with labels found to put in legend.\n"
     ]
    },
    {
     "data": {
      "image/png": "[encoded data removed]",
      "text/plain": [
       "<Figure size 432x288 with 1 Axes>"
      ]
     },
     "metadata": {
      "needs_background": "light"
     },
     "output_type": "display_data"
    }
   ],
   "source": [
    "zipf(totalCorpus)"
   ]
  },
  {
   "cell_type": "markdown",
   "metadata": {},
   "source": [
    "### Most and less frequent words"
   ]
  },
  {
   "cell_type": "code",
   "execution_count": null,
   "metadata": {},
   "outputs": [],
   "source": [
    "mostAndLess(totalCorpus)"
   ]
  },
  {
   "cell_type": "markdown",
   "metadata": {},
   "source": [
    "## Preprocessed Data Analysis"
   ]
  },
  {
   "cell_type": "markdown",
   "metadata": {},
   "source": [
    "### Most frequent word cloud"
   ]
  },
  {
   "cell_type": "code",
   "execution_count": null,
   "metadata": {},
   "outputs": [],
   "source": [
    "filesPath = \"./data/preprocessed/\"\n",
    "files = [(file, join(filesPath, file)) for file in listdir(filesPath) if isfile(join(filesPath, file)) and not file.startswith('.')]\n",
    "\n",
    "texts = \"\"\n",
    "for (file, filePath) in files:\n",
    "    with open(filePath, 'r') as f:\n",
    "        texts = texts + f.read()"
   ]
  },
  {
   "cell_type": "code",
   "execution_count": null,
   "metadata": {},
   "outputs": [],
   "source": [
    "wordcloud = WordCloud(width=2048, height=1024, background_color=\"white\").generate(texts)"
   ]
  },
  {
   "cell_type": "code",
   "execution_count": null,
   "metadata": {},
   "outputs": [],
   "source": [
    "plt.figure() \n",
    "plt.imshow(wordcloud, interpolation=\"bilinear\") \n",
    "plt.axis(\"off\") \n",
    "plt.margins(x=0, y=0) \n",
    "plt.show()"
   ]
  },
  {
   "cell_type": "markdown",
   "metadata": {},
   "source": [
    "### Zipf's Law"
   ]
  },
  {
   "cell_type": "code",
   "execution_count": null,
   "metadata": {},
   "outputs": [],
   "source": [
    "zipf(texts)"
   ]
  },
  {
   "cell_type": "markdown",
   "metadata": {},
   "source": [
    "### Most and less frequent words"
   ]
  },
  {
   "cell_type": "code",
   "execution_count": null,
   "metadata": {},
   "outputs": [],
   "source": [
    "mostAndLess(texts)"
   ]
  },
  {
   "cell_type": "code",
   "execution_count": null,
   "metadata": {},
   "outputs": [],
   "source": []
  }
 ],
 "metadata": {
  "kernelspec": {
   "display_name": "Python 3",
   "language": "python",
   "name": "python3"
  },
  "language_info": {
   "codemirror_mode": {
    "name": "ipython",
    "version": 3
   },
   "file_extension": ".py",
   "mimetype": "text/x-python",
   "name": "python",
   "nbconvert_exporter": "python",
   "pygments_lexer": "ipython3",
   "version": "3.7.9"
  }
 },
 "nbformat": 4,
 "nbformat_minor": 4
}
