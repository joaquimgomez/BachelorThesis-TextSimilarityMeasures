{
 "cells": [
  {
   "cell_type": "markdown",
   "metadata": {},
   "source": [
    "# GloVe"
   ]
  },
  {
   "cell_type": "markdown",
   "metadata": {},
   "source": [
    "Make exports available:"
   ]
  },
  {
   "cell_type": "code",
   "execution_count": 1,
   "metadata": {},
   "outputs": [],
   "source": [
    "import os\n",
    "import sys\n",
    "module_path = os.path.abspath(os.path.join('..'))\n",
    "if module_path not in sys.path:\n",
    "    sys.path.append(module_path)"
   ]
  },
  {
   "cell_type": "markdown",
   "metadata": {},
   "source": [
    "## Imports"
   ]
  },
  {
   "cell_type": "code",
   "execution_count": 2,
   "metadata": {},
   "outputs": [],
   "source": [
    "from similarities.similarities import GloVeSimilarity\n",
    "from os import listdir\n",
    "from statistics import mean, stdev\n",
    "import matplotlib.pyplot as plt\n",
    "import time"
   ]
  },
  {
   "cell_type": "markdown",
   "metadata": {},
   "source": [
    "## Definitions"
   ]
  },
  {
   "cell_type": "code",
   "execution_count": 17,
   "metadata": {
    "scrolled": false
   },
   "outputs": [
    {
     "name": "stderr",
     "output_type": "stream",
     "text": [
      "/Users/joaquingomez/opt/anaconda3/envs/tfg/lib/python3.7/site-packages/spacy/_ml.py:304: UserWarning: [W019] Changing vectors name from en_model.vectors to en_model.vectors_59918, to avoid clash with previously loaded vectors. See Issue #3853.\n",
      "  warnings.warn(Warnings.W019.format(old=old_name, new=new_name))\n"
     ]
    },
    {
     "name": "stdout",
     "output_type": "stream",
     "text": [
      "DOCUMENTS EXPERIMENT 1\n",
      "\n",
      "DOCS: ['../../data/experiment1-small_text-continuous/180-CDIF_579-UMA_000.txt', '../../data/experiment1-small_text-continuous/180-CDIF_579-UMA_010.txt', '../../data/experiment1-small_text-continuous/180-CDIF_579-UMA_20.txt', '../../data/experiment1-small_text-continuous/180-CDIF_579-UMA_30.txt', '../../data/experiment1-small_text-continuous/180-CDIF_579-UMA_040.txt', '../../data/experiment1-small_text-continuous/180-CDIF_579-UMA_50.txt', '../../data/experiment1-small_text-continuous/180-CDIF_579-UMA_060.txt', '../../data/experiment1-small_text-continuous/180-CDIF_579-UMA_070.txt', '../../data/experiment1-small_text-continuous/180-CDIF_579-UMA_080.txt', '../../data/experiment1-small_text-continuous/180-CDIF_579-UMA_090.txt', '../../data/experiment1-small_text-continuous/180-CDIF_579-UMA_100.txt']\n",
      "\n",
      "ORG: ../../data/experiment1-small_text-continuous/ORG.txt\n",
      "\n",
      " DOCUMENTS EXPERIMENT 2\n",
      "\n",
      "DOCS: ['../../data/experiment2-big_text-continuous/docs/AE_AI_0.txt', '../../data/experiment2-big_text-continuous/docs/AE_AI_10.txt', '../../data/experiment2-big_text-continuous/docs/AE_AI_20.txt', '../../data/experiment2-big_text-continuous/docs/AE_AI_30.txt', '../../data/experiment2-big_text-continuous/docs/AE_AI_40.txt', '../../data/experiment2-big_text-continuous/docs/AE_AI_50.txt', '../../data/experiment2-big_text-continuous/docs/AE_AI_60.txt', '../../data/experiment2-big_text-continuous/docs/AE_AI_70.txt', '../../data/experiment2-big_text-continuous/docs/AE_AI_80.txt', '../../data/experiment2-big_text-continuous/docs/AE_AI_90.txt', '../../data/experiment2-big_text-continuous/docs/AE_AI_100.txt', '../../data/experiment2-big_text-continuous/docs/AE_AI_110.txt', '../../data/experiment2-big_text-continuous/docs/AE_AI_120.txt', '../../data/experiment2-big_text-continuous/docs/AE_AI_130.txt', '../../data/experiment2-big_text-continuous/docs/AE_AI_140.txt', '../../data/experiment2-big_text-continuous/docs/AE_AI_150.txt', '../../data/experiment2-big_text-continuous/docs/AE_AI_160.txt', '../../data/experiment2-big_text-continuous/docs/AE_AI_170.txt', '../../data/experiment2-big_text-continuous/docs/AE_AI_180.txt', '../../data/experiment2-big_text-continuous/docs/AE_AI_190.txt', '../../data/experiment2-big_text-continuous/docs/AE_AI_200.txt', '../../data/experiment2-big_text-continuous/docs/AE_AI_210.txt', '../../data/experiment2-big_text-continuous/docs/AE_AI_220.txt', '../../data/experiment2-big_text-continuous/docs/AE_AI_230.txt', '../../data/experiment2-big_text-continuous/docs/AE_AI_240.txt', '../../data/experiment2-big_text-continuous/docs/AE_AI_250.txt', '../../data/experiment2-big_text-continuous/docs/AE_AI_260.txt', '../../data/experiment2-big_text-continuous/docs/AE_AI_270.txt', '../../data/experiment2-big_text-continuous/docs/AE_AI_280.txt', '../../data/experiment2-big_text-continuous/docs/AE_AI_290.txt', '../../data/experiment2-big_text-continuous/docs/AE_AI_300.txt', '../../data/experiment2-big_text-continuous/docs/AE_AI_310.txt', '../../data/experiment2-big_text-continuous/docs/AE_AI_320.txt', '../../data/experiment2-big_text-continuous/docs/AE_AI_330.txt', '../../data/experiment2-big_text-continuous/docs/AE_AI_340.txt', '../../data/experiment2-big_text-continuous/docs/AE_AI_350.txt', '../../data/experiment2-big_text-continuous/docs/AE_AI_360.txt', '../../data/experiment2-big_text-continuous/docs/AE_AI_370.txt', '../../data/experiment2-big_text-continuous/docs/AE_AI_380.txt', '../../data/experiment2-big_text-continuous/docs/AE_AI_390.txt', '../../data/experiment2-big_text-continuous/docs/AE_AI_400.txt', '../../data/experiment2-big_text-continuous/docs/AE_AI_410.txt', '../../data/experiment2-big_text-continuous/docs/AE_AI_420.txt', '../../data/experiment2-big_text-continuous/docs/AE_AI_430.txt', '../../data/experiment2-big_text-continuous/docs/AE_AI_440.txt', '../../data/experiment2-big_text-continuous/docs/AE_AI_450.txt', '../../data/experiment2-big_text-continuous/docs/AE_AI_460.txt', '../../data/experiment2-big_text-continuous/docs/AE_AI_470.txt', '../../data/experiment2-big_text-continuous/docs/AE_AI_480.txt', '../../data/experiment2-big_text-continuous/docs/AE_AI_490.txt', '../../data/experiment2-big_text-continuous/docs/AE_AI_500.txt', '../../data/experiment2-big_text-continuous/docs/AE_AI_510.txt', '../../data/experiment2-big_text-continuous/docs/AE_AI_520.txt', '../../data/experiment2-big_text-continuous/docs/AE_AI_530.txt', '../../data/experiment2-big_text-continuous/docs/AE_AI_540.txt', '../../data/experiment2-big_text-continuous/docs/AE_AI_550.txt', '../../data/experiment2-big_text-continuous/docs/AE_AI_560.txt', '../../data/experiment2-big_text-continuous/docs/AE_AI_570.txt', '../../data/experiment2-big_text-continuous/docs/AE_AI_580.txt', '../../data/experiment2-big_text-continuous/docs/AE_AI_590.txt', '../../data/experiment2-big_text-continuous/docs/AE_AI_600.txt', '../../data/experiment2-big_text-continuous/docs/AE_AI_610.txt', '../../data/experiment2-big_text-continuous/docs/AE_AI_620.txt', '../../data/experiment2-big_text-continuous/docs/AE_AI_630.txt', '../../data/experiment2-big_text-continuous/docs/AE_AI_640.txt', '../../data/experiment2-big_text-continuous/docs/AE_AI_650.txt', '../../data/experiment2-big_text-continuous/docs/AE_AI_660.txt', '../../data/experiment2-big_text-continuous/docs/AE_AI_670.txt', '../../data/experiment2-big_text-continuous/docs/AE_AI_680.txt', '../../data/experiment2-big_text-continuous/docs/AE_AI_690.txt', '../../data/experiment2-big_text-continuous/docs/AE_AI_700.txt', '../../data/experiment2-big_text-continuous/docs/AE_AI_710.txt', '../../data/experiment2-big_text-continuous/docs/AE_AI_720.txt', '../../data/experiment2-big_text-continuous/docs/AE_AI_730.txt', '../../data/experiment2-big_text-continuous/docs/AE_AI_740.txt', '../../data/experiment2-big_text-continuous/docs/AE_AI_750.txt', '../../data/experiment2-big_text-continuous/docs/AE_AI_760.txt', '../../data/experiment2-big_text-continuous/docs/AE_AI_770.txt', '../../data/experiment2-big_text-continuous/docs/AE_AI_780.txt', '../../data/experiment2-big_text-continuous/docs/AE_AI_790.txt', '../../data/experiment2-big_text-continuous/docs/AE_AI_800.txt', '../../data/experiment2-big_text-continuous/docs/AE_AI_810.txt', '../../data/experiment2-big_text-continuous/docs/AE_AI_820.txt', '../../data/experiment2-big_text-continuous/docs/AE_AI_830.txt', '../../data/experiment2-big_text-continuous/docs/AE_AI_840.txt', '../../data/experiment2-big_text-continuous/docs/AE_AI_850.txt', '../../data/experiment2-big_text-continuous/docs/AE_AI_860.txt', '../../data/experiment2-big_text-continuous/docs/AE_AI_870.txt', '../../data/experiment2-big_text-continuous/docs/AE_AI_880.txt', '../../data/experiment2-big_text-continuous/docs/AE_AI_890.txt', '../../data/experiment2-big_text-continuous/docs/AE_AI_900.txt', '../../data/experiment2-big_text-continuous/docs/AE_AI_910.txt', '../../data/experiment2-big_text-continuous/docs/AE_AI_920.txt', '../../data/experiment2-big_text-continuous/docs/AE_AI_930.txt', '../../data/experiment2-big_text-continuous/docs/AE_AI_940.txt', '../../data/experiment2-big_text-continuous/docs/AE_AI_950.txt', '../../data/experiment2-big_text-continuous/docs/AE_AI_960.txt', '../../data/experiment2-big_text-continuous/docs/AE_AI_970.txt', '../../data/experiment2-big_text-continuous/docs/AE_AI_980.txt', '../../data/experiment2-big_text-continuous/docs/AE_AI_990.txt', '../../data/experiment2-big_text-continuous/docs/AE_AI_1000.txt']\n",
      "\n",
      "ORG: ../../data/experiment2-big_text-continuous/docs/AE.txt\n"
     ]
    }
   ],
   "source": [
    "modelPath = \"/Users/joaquingomez/Library/Mobile Documents/com~apple~CloudDocs/UPC/Ingeniería Informática (FIB)/4o/Q9/TFG/models/GloVe/GloVe.txt\"\n",
    "spacyPath =\"../../models/GloVe/spacy.GloVe.model\"\n",
    "experimentsClass = GloVeSimilarity(modelPath, spacyPath)\n",
    "\n",
    "pathDataExperiment1 = \"../../data/experiment1-small_text-continuous/\"\n",
    "pathDataExperiment2 = \"../../data/experiment2-big_text-continuous/docs/\"\n",
    "\n",
    "# DOCUMENTS EXPERIMENT 1\n",
    "\n",
    "print(\"DOCUMENTS EXPERIMENT 1\\n\")\n",
    "\n",
    "docsExp1 = []\n",
    "orgExp1 = \"\"\n",
    "for doc in listdir(pathDataExperiment1):\n",
    "    if doc.endswith(\".txt\"):\n",
    "        if doc[-7:] == \"ORG.txt\":\n",
    "            orgExp1 = pathDataExperiment1 + doc\n",
    "        else:\n",
    "            docsExp1.append(pathDataExperiment1 + doc)\n",
    "            \n",
    "docsExp1.sort(key = lambda x: int(x.split(\"_\")[-1][:-4]))\n",
    "            \n",
    "print(\"DOCS: \" + str(docsExp1) + \"\\n\")\n",
    "print(\"ORG: \" + orgExp1)\n",
    "\n",
    "\n",
    "# DOCUMENTS EXPERIMENT 2\n",
    "\n",
    "print(\"\\n DOCUMENTS EXPERIMENT 2\\n\")\n",
    "\n",
    "docsExp2 = []\n",
    "orgExp2 = \"\"\n",
    "for doc in listdir(pathDataExperiment2):\n",
    "    if doc.endswith(\".txt\"):\n",
    "        if doc == \"AE.txt\":\n",
    "            orgExp2 = pathDataExperiment2 + doc\n",
    "        elif doc == \"AI.txt\":\n",
    "            continue\n",
    "        else:\n",
    "            docsExp2.append(pathDataExperiment2 + doc)\n",
    "            \n",
    "docsExp2.sort(key = lambda x: int(x.split(\"_\")[-1][:-4]))\n",
    "            \n",
    "print(\"DOCS: \" + str(docsExp2) + \"\\n\")\n",
    "print(\"ORG: \" + orgExp2)"
   ]
  },
  {
   "cell_type": "markdown",
   "metadata": {},
   "source": [
    "## Experiments"
   ]
  },
  {
   "cell_type": "markdown",
   "metadata": {},
   "source": [
    "### Experiment I (Small texts) - Model validation (Soft-Cosine Similarity)"
   ]
  },
  {
   "cell_type": "code",
   "execution_count": 6,
   "metadata": {},
   "outputs": [],
   "source": [
    "results11 = []\n",
    "times11 = []\n",
    "\n",
    "for doc in docsExp1:\n",
    "    start_time = time.time()\n",
    "    results11.append(experimentsClass.distance(orgExp1, doc, 0, -1))\n",
    "    times11.append(time.time() - start_time)\n",
    "\n",
    "results11 = [1 - x for x in results11]"
   ]
  },
  {
   "cell_type": "code",
   "execution_count": 7,
   "metadata": {},
   "outputs": [
    {
     "data": {
      "image/png": "[encoded data removed]",
      "text/plain": [
       "<Figure size 432x288 with 1 Axes>"
      ]
     },
     "metadata": {
      "needs_background": "light"
     },
     "output_type": "display_data"
    }
   ],
   "source": [
    "plt.xlabel('# sentences passed')\n",
    "plt.ylabel('distance')\n",
    "\n",
    "plt.plot(list(range(0, 110, 10)), results11)\n",
    "\n",
    "plt.savefig('../../figures/GloVe_exp1_smallText_SoftCosine.png')"
   ]
  },
  {
   "cell_type": "code",
   "execution_count": 8,
   "metadata": {},
   "outputs": [
    {
     "data": {
      "text/plain": [
       "[0.6367551230024708,\n",
       " 0.6025906197761572,\n",
       " 0.5666054284801892,\n",
       " 0.5254986639173069,\n",
       " 0.4637050656031896,\n",
       " 0.4187371324677067,\n",
       " 0.36739163729991475,\n",
       " 0.34055488502020603,\n",
       " 0.32374653118274666,\n",
       " 0.2975848014275225,\n",
       " 0.28318614143089127]"
      ]
     },
     "execution_count": 8,
     "metadata": {},
     "output_type": "execute_result"
    }
   ],
   "source": [
    "results11"
   ]
  },
  {
   "cell_type": "code",
   "execution_count": 9,
   "metadata": {},
   "outputs": [
    {
     "name": "stdout",
     "output_type": "stream",
     "text": [
      "Mean execution time: 6.8173675753853535\n"
     ]
    }
   ],
   "source": [
    "print(\"Mean execution time: \" + str(mean(times11)))"
   ]
  },
  {
   "cell_type": "code",
   "execution_count": 10,
   "metadata": {},
   "outputs": [
    {
     "data": {
      "text/plain": [
       "[6.474427938461304,\n",
       " 6.955677032470703,\n",
       " 6.383724212646484,\n",
       " 11.48569393157959,\n",
       " 7.1008851528167725,\n",
       " 6.342076301574707,\n",
       " 6.319110870361328,\n",
       " 5.359694004058838,\n",
       " 7.2675230503082275,\n",
       " 6.1009039878845215,\n",
       " 5.201326847076416]"
      ]
     },
     "execution_count": 10,
     "metadata": {},
     "output_type": "execute_result"
    }
   ],
   "source": [
    "times11"
   ]
  },
  {
   "cell_type": "markdown",
   "metadata": {},
   "source": [
    "### Experiment I (Small texts) - Model validation (Normal Word Mover's Distance)"
   ]
  },
  {
   "cell_type": "code",
   "execution_count": 11,
   "metadata": {},
   "outputs": [],
   "source": [
    "results12n = []\n",
    "times12n = []\n",
    "\n",
    "for doc in docsExp1:\n",
    "    start_time = time.time()\n",
    "    results12n.append(experimentsClass.distance(orgExp1, doc, 1, False))\n",
    "    times12n.append(time.time() - start_time)"
   ]
  },
  {
   "cell_type": "code",
   "execution_count": 12,
   "metadata": {},
   "outputs": [
    {
     "data": {
      "image/png": "[encoded data removed]",
      "text/plain": [
       "<Figure size 432x288 with 1 Axes>"
      ]
     },
     "metadata": {
      "needs_background": "light"
     },
     "output_type": "display_data"
    }
   ],
   "source": [
    "plt.xlabel('# sentences passed')\n",
    "plt.ylabel('distance')\n",
    "\n",
    "plt.plot(list(range(0, 110, 10)), results12n)\n",
    "\n",
    "plt.savefig('../../figures/GloVe_exp1_smallText_NormalWordMovers.png')"
   ]
  },
  {
   "cell_type": "code",
   "execution_count": 13,
   "metadata": {},
   "outputs": [
    {
     "data": {
      "text/plain": [
       "[0.9673973624934968,\n",
       " 0.9362909134896127,\n",
       " 0.8993402986193927,\n",
       " 0.8665205816471326,\n",
       " 0.8191626695801074,\n",
       " 0.768586969383464,\n",
       " 0.7356437929532319,\n",
       " 0.7079238296827773,\n",
       " 0.6926647441591184,\n",
       " 0.6650741244101676,\n",
       " 0.6451291978564945]"
      ]
     },
     "execution_count": 13,
     "metadata": {},
     "output_type": "execute_result"
    }
   ],
   "source": [
    "results12n"
   ]
  },
  {
   "cell_type": "code",
   "execution_count": 14,
   "metadata": {},
   "outputs": [
    {
     "name": "stdout",
     "output_type": "stream",
     "text": [
      "Mean execution time: 39.11941816590049\n"
     ]
    }
   ],
   "source": [
    "print(\"Mean execution time: \" + str(mean(times12n)))"
   ]
  },
  {
   "cell_type": "code",
   "execution_count": 15,
   "metadata": {
    "scrolled": true
   },
   "outputs": [
    {
     "data": {
      "text/plain": [
       "[35.38051199913025,\n",
       " 37.023173332214355,\n",
       " 42.13735222816467,\n",
       " 46.2923641204834,\n",
       " 35.210346937179565,\n",
       " 38.01174187660217,\n",
       " 40.43129587173462,\n",
       " 39.429365158081055,\n",
       " 42.01516604423523,\n",
       " 37.63324499130249,\n",
       " 36.74903726577759]"
      ]
     },
     "execution_count": 15,
     "metadata": {},
     "output_type": "execute_result"
    }
   ],
   "source": [
    "times12n"
   ]
  },
  {
   "cell_type": "markdown",
   "metadata": {},
   "source": [
    "### Experiment I (Small texts) - Model validation (Relaxed Word Mover's Distance)"
   ]
  },
  {
   "cell_type": "code",
   "execution_count": 18,
   "metadata": {},
   "outputs": [],
   "source": [
    "results12r = []\n",
    "times12r = []\n",
    "\n",
    "for doc in docsExp1:\n",
    "    start_time = time.time()\n",
    "    results12r.append(experimentsClass.distance(orgExp1, doc, 1, True))\n",
    "    times12r.append(time.time() - start_time)"
   ]
  },
  {
   "cell_type": "code",
   "execution_count": 19,
   "metadata": {},
   "outputs": [
    {
     "data": {
      "image/png": "[encoded data removed]",
      "text/plain": [
       "<Figure size 432x288 with 1 Axes>"
      ]
     },
     "metadata": {
      "needs_background": "light"
     },
     "output_type": "display_data"
    }
   ],
   "source": [
    "plt.xlabel('# sentences passed')\n",
    "plt.ylabel('distance')\n",
    "\n",
    "plt.plot(list(range(0, 110, 10)), results12r)\n",
    "\n",
    "plt.savefig('../../figures/GloVe_exp1_smallText_RelaxedWordMovers.png')"
   ]
  },
  {
   "cell_type": "code",
   "execution_count": 20,
   "metadata": {},
   "outputs": [
    {
     "data": {
      "text/plain": [
       "[0.8567169308662415,\n",
       " 0.8281270265579224,\n",
       " 0.7915219068527222,\n",
       " 0.7647862434387207,\n",
       " 0.7354444861412048,\n",
       " 0.7006961107254028,\n",
       " 0.6827519536018372,\n",
       " 0.6597104072570801,\n",
       " 0.6516868472099304,\n",
       " 0.6302999258041382,\n",
       " 0.6171602010726929]"
      ]
     },
     "execution_count": 20,
     "metadata": {},
     "output_type": "execute_result"
    }
   ],
   "source": [
    "results12r"
   ]
  },
  {
   "cell_type": "code",
   "execution_count": 21,
   "metadata": {},
   "outputs": [
    {
     "name": "stdout",
     "output_type": "stream",
     "text": [
      "Mean execution time: 0.43063540892167523\n"
     ]
    }
   ],
   "source": [
    "print(\"Mean execution time: \" + str(mean(times12r)))"
   ]
  },
  {
   "cell_type": "code",
   "execution_count": 22,
   "metadata": {},
   "outputs": [
    {
     "data": {
      "text/plain": [
       "[0.5677900314331055,\n",
       " 0.4642338752746582,\n",
       " 0.44395971298217773,\n",
       " 0.41583800315856934,\n",
       " 0.34885191917419434,\n",
       " 0.5688838958740234,\n",
       " 0.4512300491333008,\n",
       " 0.32939600944519043,\n",
       " 0.4152219295501709,\n",
       " 0.38114404678344727,\n",
       " 0.35044002532958984]"
      ]
     },
     "execution_count": 22,
     "metadata": {},
     "output_type": "execute_result"
    }
   ],
   "source": [
    "times12r"
   ]
  },
  {
   "cell_type": "markdown",
   "metadata": {},
   "source": [
    "### Experiment II (Big texts) - Model validation (Soft-Cosine Similarity)"
   ]
  },
  {
   "cell_type": "code",
   "execution_count": 23,
   "metadata": {},
   "outputs": [],
   "source": [
    "results21 = []\n",
    "times21 = []\n",
    "\n",
    "for doc in docsExp2:\n",
    "    start_time = time.time()\n",
    "    results21.append(experimentsClass.distance(orgExp2, doc, 0, -1))\n",
    "    times21.append(time.time() - start_time)\n",
    "    \n",
    "results21 = [1 - x for x in results21]"
   ]
  },
  {
   "cell_type": "code",
   "execution_count": 24,
   "metadata": {},
   "outputs": [
    {
     "data": {
      "image/png": "[encoded data removed]",
      "text/plain": [
       "<Figure size 432x288 with 1 Axes>"
      ]
     },
     "metadata": {
      "needs_background": "light"
     },
     "output_type": "display_data"
    }
   ],
   "source": [
    "plt.xlabel('# sentences passed')\n",
    "plt.ylabel('distance')\n",
    "\n",
    "plt.plot(list(range(0, 1010, 10)), results21)\n",
    "\n",
    "plt.savefig('../../figures/GloVe_exp2_bigText_SoftCosine.png')"
   ]
  },
  {
   "cell_type": "code",
   "execution_count": 25,
   "metadata": {},
   "outputs": [
    {
     "data": {
      "text/plain": [
       "[0.9036927437483133,\n",
       " 0.903466258566103,\n",
       " 0.9032958411938294,\n",
       " 0.903061230855393,\n",
       " 0.9028302685614379,\n",
       " 0.9024582217468886,\n",
       " 0.9020189242594204,\n",
       " 0.9019114822193813,\n",
       " 0.9017710035499685,\n",
       " 0.901602136555822,\n",
       " 0.9014282622768713,\n",
       " 0.9010893673341797,\n",
       " 0.9008778157452277,\n",
       " 0.9008181762534715,\n",
       " 0.9003326645982961,\n",
       " 0.9000100976074153,\n",
       " 0.8998160849150053,\n",
       " 0.8994833868106898,\n",
       " 0.8993560016609576,\n",
       " 0.8988587065813037,\n",
       " 0.8987041696944628,\n",
       " 0.8983630604650943,\n",
       " 0.8982021040876083,\n",
       " 0.8980266812864992,\n",
       " 0.8976351640367247,\n",
       " 0.8971699299287225,\n",
       " 0.896679287415876,\n",
       " 0.8966175677328985,\n",
       " 0.8962088504107626,\n",
       " 0.8960733415230122,\n",
       " 0.8958271742135684,\n",
       " 0.8957288398067788,\n",
       " 0.895465164386711,\n",
       " 0.8952351993458822,\n",
       " 0.8951394382771833,\n",
       " 0.8949133655221501,\n",
       " 0.8945847259875237,\n",
       " 0.8942561358843284,\n",
       " 0.8940741762351759,\n",
       " 0.8939543987822477,\n",
       " 0.8938282693528972,\n",
       " 0.893760562174693,\n",
       " 0.8934836596591214,\n",
       " 0.8932340560913149,\n",
       " 0.8930802940082542,\n",
       " 0.8928529836783226,\n",
       " 0.892351743075038,\n",
       " 0.892051312740156,\n",
       " 0.8916616833208908,\n",
       " 0.8915280722884554,\n",
       " 0.891468674548616,\n",
       " 0.8912649882464443,\n",
       " 0.8909471368354788,\n",
       " 0.8908061893075817,\n",
       " 0.890478127966607,\n",
       " 0.8901788715186969,\n",
       " 0.88973229470214,\n",
       " 0.8895655943343307,\n",
       " 0.8894362497685927,\n",
       " 0.8891623979208861,\n",
       " 0.888938495810161,\n",
       " 0.8887093143776705,\n",
       " 0.8885925633904312,\n",
       " 0.8882735414128404,\n",
       " 0.8877376832949988,\n",
       " 0.8876014001532755,\n",
       " 0.8874732373283183,\n",
       " 0.8873339342587819,\n",
       " 0.8871489718435243,\n",
       " 0.8868762660460006,\n",
       " 0.8865002969702418,\n",
       " 0.8863602466083141,\n",
       " 0.8859782321335792,\n",
       " 0.8858078806954096,\n",
       " 0.8856472962732348,\n",
       " 0.8854610783509518,\n",
       " 0.8851598939247728,\n",
       " 0.8849999319321884,\n",
       " 0.8848021048788379,\n",
       " 0.8844966954561562,\n",
       " 0.8843720184528919,\n",
       " 0.8842093705584555,\n",
       " 0.8837963155176041,\n",
       " 0.883539791595019,\n",
       " 0.8833164951461202,\n",
       " 0.8829492695856593,\n",
       " 0.8825494727922314,\n",
       " 0.8819856354863798,\n",
       " 0.8815466441809783,\n",
       " 0.8812748764692294,\n",
       " 0.8811884399157202,\n",
       " 0.8807266436924227,\n",
       " 0.8805234629407209,\n",
       " 0.8804287714893471,\n",
       " 0.8801370371726949,\n",
       " 0.8800247269221532,\n",
       " 0.8796923849125833,\n",
       " 0.8794522314429343,\n",
       " 0.879383767752265,\n",
       " 0.8791781228148287,\n",
       " 0.8789500634490035]"
      ]
     },
     "execution_count": 25,
     "metadata": {},
     "output_type": "execute_result"
    }
   ],
   "source": [
    "results21"
   ]
  },
  {
   "cell_type": "code",
   "execution_count": 26,
   "metadata": {},
   "outputs": [
    {
     "name": "stdout",
     "output_type": "stream",
     "text": [
      "Mean execution time: 37.86924667641668\n"
     ]
    }
   ],
   "source": [
    "print(\"Mean execution time: \" + str(mean(times21)))"
   ]
  },
  {
   "cell_type": "code",
   "execution_count": 27,
   "metadata": {},
   "outputs": [
    {
     "name": "stdout",
     "output_type": "stream",
     "text": [
      "Stdev execution time: 5.211972617593337\n"
     ]
    }
   ],
   "source": [
    "print(\"Stdev execution time: \" + str(stdev(times21)))"
   ]
  },
  {
   "cell_type": "code",
   "execution_count": 28,
   "metadata": {},
   "outputs": [
    {
     "data": {
      "text/plain": [
       "[38.94755005836487,\n",
       " 36.332687854766846,\n",
       " 34.61925506591797,\n",
       " 34.60858964920044,\n",
       " 34.50112986564636,\n",
       " 34.57743287086487,\n",
       " 34.489503145217896,\n",
       " 38.37768769264221,\n",
       " 34.51710104942322,\n",
       " 35.586700677871704,\n",
       " 36.573225021362305,\n",
       " 34.64031195640564,\n",
       " 34.43039011955261,\n",
       " 34.60434317588806,\n",
       " 35.7110390663147,\n",
       " 35.12767004966736,\n",
       " 35.124961853027344,\n",
       " 35.42870807647705,\n",
       " 36.42180919647217,\n",
       " 34.94984769821167,\n",
       " 36.29629898071289,\n",
       " 34.34925985336304,\n",
       " 34.435373067855835,\n",
       " 34.40354371070862,\n",
       " 35.66098880767822,\n",
       " 34.641335010528564,\n",
       " 34.40366172790527,\n",
       " 34.53838801383972,\n",
       " 34.41094398498535,\n",
       " 34.3525550365448,\n",
       " 34.3470299243927,\n",
       " 34.940643072128296,\n",
       " 35.580270767211914,\n",
       " 35.2366840839386,\n",
       " 42.14904594421387,\n",
       " 46.51213002204895,\n",
       " 43.58610200881958,\n",
       " 46.8739972114563,\n",
       " 45.28969097137451,\n",
       " 47.571890115737915,\n",
       " 40.98457884788513,\n",
       " 47.22322607040405,\n",
       " 48.26144099235535,\n",
       " 43.78618025779724,\n",
       " 43.74021005630493,\n",
       " 39.94449806213379,\n",
       " 37.56609487533569,\n",
       " 35.07696485519409,\n",
       " 33.24099802970886,\n",
       " 34.23413014411926,\n",
       " 33.340113162994385,\n",
       " 33.438294887542725,\n",
       " 57.81881403923035,\n",
       " 46.081515073776245,\n",
       " 58.23528003692627,\n",
       " 41.72854971885681,\n",
       " 35.68875694274902,\n",
       " 38.461443185806274,\n",
       " 38.46321487426758,\n",
       " 34.43122410774231,\n",
       " 33.652453899383545,\n",
       " 35.86643075942993,\n",
       " 53.16355609893799,\n",
       " 38.343013048172,\n",
       " 41.62085819244385,\n",
       " 41.93367910385132,\n",
       " 36.23776412010193,\n",
       " 44.50405216217041,\n",
       " 37.10910105705261,\n",
       " 36.51263499259949,\n",
       " 42.521469831466675,\n",
       " 43.755768060684204,\n",
       " 37.90936779975891,\n",
       " 37.281084060668945,\n",
       " 35.14902305603027,\n",
       " 37.25227475166321,\n",
       " 49.89770698547363,\n",
       " 39.54853296279907,\n",
       " 34.82412600517273,\n",
       " 43.57390308380127,\n",
       " 39.44019079208374,\n",
       " 34.17717099189758,\n",
       " 34.572688817977905,\n",
       " 34.55661702156067,\n",
       " 36.15700387954712,\n",
       " 34.70156908035278,\n",
       " 34.24645113945007,\n",
       " 34.791683197021484,\n",
       " 34.424455881118774,\n",
       " 34.47643494606018,\n",
       " 34.534099817276,\n",
       " 36.12085580825806,\n",
       " 35.1299102306366,\n",
       " 36.86176013946533,\n",
       " 34.1310248374939,\n",
       " 34.52741980552673,\n",
       " 34.18256902694702,\n",
       " 33.96672320365906,\n",
       " 34.02641677856445,\n",
       " 34.24434423446655,\n",
       " 33.97241997718811]"
      ]
     },
     "execution_count": 28,
     "metadata": {},
     "output_type": "execute_result"
    }
   ],
   "source": [
    "times21"
   ]
  },
  {
   "cell_type": "markdown",
   "metadata": {},
   "source": [
    "### Experiment II (Big texts) - Model validation (Relaxed Word Mover's Distance)"
   ]
  },
  {
   "cell_type": "code",
   "execution_count": 29,
   "metadata": {},
   "outputs": [],
   "source": [
    "results22 = []\n",
    "times22 = []\n",
    "\n",
    "for doc in docsExp2:\n",
    "    start_time = time.time()\n",
    "    results22.append(experimentsClass.distance(orgExp2, doc, 1, True))\n",
    "    times22.append(time.time() - start_time)"
   ]
  },
  {
   "cell_type": "code",
   "execution_count": 30,
   "metadata": {},
   "outputs": [
    {
     "data": {
      "image/png": "[encoded data removed]",
      "text/plain": [
       "<Figure size 432x288 with 1 Axes>"
      ]
     },
     "metadata": {
      "needs_background": "light"
     },
     "output_type": "display_data"
    }
   ],
   "source": [
    "plt.xlabel('# sentences passed')\n",
    "plt.ylabel('distance')\n",
    "\n",
    "plt.plot(list(range(0, 1010, 10)), results22)\n",
    "\n",
    "plt.savefig('../../figures/GloVeword2vec_exp2_bigText_WordMovers.png')"
   ]
  },
  {
   "cell_type": "code",
   "execution_count": 31,
   "metadata": {},
   "outputs": [
    {
     "data": {
      "text/plain": [
       "[0.7260792851448059,\n",
       " 0.723568856716156,\n",
       " 0.7220966219902039,\n",
       " 0.7194041609764099,\n",
       " 0.7181893587112427,\n",
       " 0.7149718403816223,\n",
       " 0.7115370035171509,\n",
       " 0.7090072631835938,\n",
       " 0.7068222761154175,\n",
       " 0.7055870890617371,\n",
       " 0.705081582069397,\n",
       " 0.7040944695472717,\n",
       " 0.7038471698760986,\n",
       " 0.703350841999054,\n",
       " 0.7000517845153809,\n",
       " 0.698894202709198,\n",
       " 0.697675347328186,\n",
       " 0.6963433623313904,\n",
       " 0.6954740881919861,\n",
       " 0.6942817568778992,\n",
       " 0.6924992203712463,\n",
       " 0.6897151470184326,\n",
       " 0.6892156004905701,\n",
       " 0.6886177062988281,\n",
       " 0.6878129243850708,\n",
       " 0.6865209937095642,\n",
       " 0.6857360005378723,\n",
       " 0.6848707795143127,\n",
       " 0.6840440630912781,\n",
       " 0.6833040118217468,\n",
       " 0.6824451088905334,\n",
       " 0.6819167137145996,\n",
       " 0.68133145570755,\n",
       " 0.6800116896629333,\n",
       " 0.6789284944534302,\n",
       " 0.6783252358436584,\n",
       " 0.6776096820831299,\n",
       " 0.6766166687011719,\n",
       " 0.6764510273933411,\n",
       " 0.6749101877212524,\n",
       " 0.6737330555915833,\n",
       " 0.6727691292762756,\n",
       " 0.6714156866073608,\n",
       " 0.6707776188850403,\n",
       " 0.6703209280967712,\n",
       " 0.6695439219474792,\n",
       " 0.6687973737716675,\n",
       " 0.6669617295265198,\n",
       " 0.6665317416191101,\n",
       " 0.6657006144523621,\n",
       " 0.6652873754501343,\n",
       " 0.6641437411308289,\n",
       " 0.6636742949485779,\n",
       " 0.6630107760429382,\n",
       " 0.662011981010437,\n",
       " 0.6612749695777893,\n",
       " 0.6605238914489746,\n",
       " 0.6602585911750793,\n",
       " 0.6594604253768921,\n",
       " 0.6584494709968567,\n",
       " 0.6573149561882019,\n",
       " 0.6572079062461853,\n",
       " 0.656660795211792,\n",
       " 0.6556645631790161,\n",
       " 0.6553595066070557,\n",
       " 0.6551128625869751,\n",
       " 0.6546730399131775,\n",
       " 0.6539556980133057,\n",
       " 0.6531636714935303,\n",
       " 0.6527714729309082,\n",
       " 0.6519412398338318,\n",
       " 0.6517482399940491,\n",
       " 0.6511768698692322,\n",
       " 0.6503937840461731,\n",
       " 0.6501570343971252,\n",
       " 0.6499744057655334,\n",
       " 0.6495112776756287,\n",
       " 0.6489418745040894,\n",
       " 0.6484077572822571,\n",
       " 0.6474596261978149,\n",
       " 0.6471782922744751,\n",
       " 0.6468647122383118,\n",
       " 0.6460143327713013,\n",
       " 0.6455945372581482,\n",
       " 0.6452756524085999,\n",
       " 0.6445072293281555,\n",
       " 0.643024206161499,\n",
       " 0.6425321698188782,\n",
       " 0.6411608457565308,\n",
       " 0.640996515750885,\n",
       " 0.6405143141746521,\n",
       " 0.6399631500244141,\n",
       " 0.6398914456367493,\n",
       " 0.6397013068199158,\n",
       " 0.6387512683868408,\n",
       " 0.6383822560310364,\n",
       " 0.6378977298736572,\n",
       " 0.6375138163566589,\n",
       " 0.6368262767791748,\n",
       " 0.6362295150756836,\n",
       " 0.6356242299079895]"
      ]
     },
     "execution_count": 31,
     "metadata": {},
     "output_type": "execute_result"
    }
   ],
   "source": [
    "results22"
   ]
  },
  {
   "cell_type": "code",
   "execution_count": 32,
   "metadata": {},
   "outputs": [
    {
     "name": "stdout",
     "output_type": "stream",
     "text": [
      "Mean execution time: 139.7398536653802\n"
     ]
    }
   ],
   "source": [
    "print(\"Mean execution time: \" + str(mean(times22)))"
   ]
  },
  {
   "cell_type": "code",
   "execution_count": 33,
   "metadata": {},
   "outputs": [
    {
     "name": "stdout",
     "output_type": "stream",
     "text": [
      "Stdev execution time: 284.3561467363345\n"
     ]
    }
   ],
   "source": [
    "print(\"Stdev execution time: \" + str(stdev(times22)))"
   ]
  },
  {
   "cell_type": "code",
   "execution_count": 34,
   "metadata": {},
   "outputs": [
    {
     "data": {
      "text/plain": [
       "[52.657264947891235,\n",
       " 50.96852993965149,\n",
       " 50.724786043167114,\n",
       " 84.08006310462952,\n",
       " 2193.9723341464996,\n",
       " 77.97051405906677,\n",
       " 74.16991686820984,\n",
       " 90.99020576477051,\n",
       " 104.57761192321777,\n",
       " 96.75833082199097,\n",
       " 101.09703874588013,\n",
       " 113.26156616210938,\n",
       " 100.35615491867065,\n",
       " 83.41739797592163,\n",
       " 77.74169492721558,\n",
       " 73.47062993049622,\n",
       " 77.54417181015015,\n",
       " 71.59595704078674,\n",
       " 74.94703793525696,\n",
       " 106.19242000579834,\n",
       " 113.60195302963257,\n",
       " 90.27945303916931,\n",
       " 93.34121918678284,\n",
       " 94.00793600082397,\n",
       " 95.46064305305481,\n",
       " 96.97152090072632,\n",
       " 92.38741707801819,\n",
       " 86.24401116371155,\n",
       " 103.30166101455688,\n",
       " 94.28047370910645,\n",
       " 93.22962403297424,\n",
       " 99.55346202850342,\n",
       " 109.22561693191528,\n",
       " 95.8121829032898,\n",
       " 103.65806317329407,\n",
       " 101.03958010673523,\n",
       " 101.24897193908691,\n",
       " 116.71565413475037,\n",
       " 114.58538007736206,\n",
       " 116.18865585327148,\n",
       " 116.81343221664429,\n",
       " 107.66460800170898,\n",
       " 109.74408602714539,\n",
       " 2058.8934438228607,\n",
       " 73.61284685134888,\n",
       " 76.71421694755554,\n",
       " 85.73403596878052,\n",
       " 106.98827505111694,\n",
       " 119.44789004325867,\n",
       " 115.97825789451599,\n",
       " 125.19448924064636,\n",
       " 115.5919361114502,\n",
       " 95.17029786109924,\n",
       " 82.35370397567749,\n",
       " 85.0201780796051,\n",
       " 78.18713212013245,\n",
       " 84.5291519165039,\n",
       " 82.08415794372559,\n",
       " 105.01040291786194,\n",
       " 110.88774991035461,\n",
       " 120.83938026428223,\n",
       " 110.26756381988525,\n",
       " 100.86435198783875,\n",
       " 113.16636800765991,\n",
       " 110.43764996528625,\n",
       " 104.18750214576721,\n",
       " 114.53964495658875,\n",
       " 101.5550229549408,\n",
       " 109.5346417427063,\n",
       " 119.2215268611908,\n",
       " 99.60067510604858,\n",
       " 103.13934111595154,\n",
       " 107.07495594024658,\n",
       " 107.1190710067749,\n",
       " 109.4508810043335,\n",
       " 103.89983010292053,\n",
       " 99.59590601921082,\n",
       " 113.2106990814209,\n",
       " 101.26766800880432,\n",
       " 104.97955203056335,\n",
       " 123.41555285453796,\n",
       " 114.35895085334778,\n",
       " 117.00975894927979,\n",
       " 105.94677400588989,\n",
       " 124.74037098884583,\n",
       " 106.36630082130432,\n",
       " 101.63988614082336,\n",
       " 100.55545544624329,\n",
       " 103.263925075531,\n",
       " 104.22887015342712,\n",
       " 98.96694207191467,\n",
       " 110.08343720436096,\n",
       " 109.69230604171753,\n",
       " 100.60729789733887,\n",
       " 114.80027794837952,\n",
       " 105.09219884872437,\n",
       " 97.72868871688843,\n",
       " 99.18300867080688,\n",
       " 104.95678091049194,\n",
       " 114.1097981929779,\n",
       " 99.77900695800781]"
      ]
     },
     "execution_count": 34,
     "metadata": {},
     "output_type": "execute_result"
    }
   ],
   "source": [
    "times22"
   ]
  },
  {
   "cell_type": "code",
   "execution_count": null,
   "metadata": {},
   "outputs": [],
   "source": []
  }
 ],
 "metadata": {
  "kernelspec": {
   "display_name": "Python 3",
   "language": "python",
   "name": "python3"
  },
  "language_info": {
   "codemirror_mode": {
    "name": "ipython",
    "version": 3
   },
   "file_extension": ".py",
   "mimetype": "text/x-python",
   "name": "python",
   "nbconvert_exporter": "python",
   "pygments_lexer": "ipython3",
   "version": "3.7.9"
  }
 },
 "nbformat": 4,
 "nbformat_minor": 4
}
