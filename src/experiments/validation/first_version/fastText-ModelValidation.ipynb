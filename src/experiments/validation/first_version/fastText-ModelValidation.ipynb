{
 "cells": [
  {
   "cell_type": "markdown",
   "metadata": {
    "id": "Tfgf8V9d1Rf0"
   },
   "source": [
    "# fastText"
   ]
  },
  {
   "cell_type": "markdown",
   "metadata": {
    "id": "3NDmT9Uu1Rf5"
   },
   "source": [
    "Make exports available:"
   ]
  },
  {
   "cell_type": "code",
   "execution_count": 1,
   "metadata": {
    "id": "qV9vST1Z1Rf_"
   },
   "outputs": [],
   "source": [
    "import os\n",
    "import sys\n",
    "module_path = os.path.abspath(os.path.join('..'))\n",
    "if module_path not in sys.path:\n",
    "    sys.path.append(module_path)"
   ]
  },
  {
   "cell_type": "markdown",
   "metadata": {
    "id": "K-weevFA1RgJ"
   },
   "source": [
    "## Imports"
   ]
  },
  {
   "cell_type": "code",
   "execution_count": 34,
   "metadata": {
    "id": "cETmdqgJ1RgK"
   },
   "outputs": [],
   "source": [
    "from similarities.similarities import FastTextSimilarity\n",
    "from os import listdir\n",
    "from statistics import mean, stdev\n",
    "import matplotlib.pyplot as plt\n",
    "import time"
   ]
  },
  {
   "cell_type": "markdown",
   "metadata": {
    "id": "ioDvgqwS1RgV"
   },
   "source": [
    "## Definitions"
   ]
  },
  {
   "cell_type": "code",
   "execution_count": 3,
   "metadata": {
    "colab": {
     "base_uri": "https://localhost:8080/",
     "height": 258
    },
    "id": "zUuSZ__p1RgW",
    "outputId": "52d66a5a-83b4-4ac4-f950-a3967a70e219"
   },
   "outputs": [
    {
     "name": "stdout",
     "output_type": "stream",
     "text": [
      "DOCUMENTS EXPERIMENT 1\n",
      "\n",
      "DOCS: ['../../data/experiment1-small_text-continuous/180-CDIF_579-UMA_000.txt', '../../data/experiment1-small_text-continuous/180-CDIF_579-UMA_010.txt', '../../data/experiment1-small_text-continuous/180-CDIF_579-UMA_20.txt', '../../data/experiment1-small_text-continuous/180-CDIF_579-UMA_30.txt', '../../data/experiment1-small_text-continuous/180-CDIF_579-UMA_040.txt', '../../data/experiment1-small_text-continuous/180-CDIF_579-UMA_50.txt', '../../data/experiment1-small_text-continuous/180-CDIF_579-UMA_060.txt', '../../data/experiment1-small_text-continuous/180-CDIF_579-UMA_070.txt', '../../data/experiment1-small_text-continuous/180-CDIF_579-UMA_080.txt', '../../data/experiment1-small_text-continuous/180-CDIF_579-UMA_090.txt', '../../data/experiment1-small_text-continuous/180-CDIF_579-UMA_100.txt']\n",
      "\n",
      "ORG: ../../data/experiment1-small_text-continuous/ORG.txt\n",
      "\n",
      " DOCUMENTS EXPERIMENT 2\n",
      "\n",
      "DOCS: ['../../data/experiment2-big_text-continuous/docs/AE_AI_0.txt', '../../data/experiment2-big_text-continuous/docs/AE_AI_10.txt', '../../data/experiment2-big_text-continuous/docs/AE_AI_20.txt', '../../data/experiment2-big_text-continuous/docs/AE_AI_30.txt', '../../data/experiment2-big_text-continuous/docs/AE_AI_40.txt', '../../data/experiment2-big_text-continuous/docs/AE_AI_50.txt', '../../data/experiment2-big_text-continuous/docs/AE_AI_60.txt', '../../data/experiment2-big_text-continuous/docs/AE_AI_70.txt', '../../data/experiment2-big_text-continuous/docs/AE_AI_80.txt', '../../data/experiment2-big_text-continuous/docs/AE_AI_90.txt', '../../data/experiment2-big_text-continuous/docs/AE_AI_100.txt', '../../data/experiment2-big_text-continuous/docs/AE_AI_110.txt', '../../data/experiment2-big_text-continuous/docs/AE_AI_120.txt', '../../data/experiment2-big_text-continuous/docs/AE_AI_130.txt', '../../data/experiment2-big_text-continuous/docs/AE_AI_140.txt', '../../data/experiment2-big_text-continuous/docs/AE_AI_150.txt', '../../data/experiment2-big_text-continuous/docs/AE_AI_160.txt', '../../data/experiment2-big_text-continuous/docs/AE_AI_170.txt', '../../data/experiment2-big_text-continuous/docs/AE_AI_180.txt', '../../data/experiment2-big_text-continuous/docs/AE_AI_190.txt', '../../data/experiment2-big_text-continuous/docs/AE_AI_200.txt', '../../data/experiment2-big_text-continuous/docs/AE_AI_210.txt', '../../data/experiment2-big_text-continuous/docs/AE_AI_220.txt', '../../data/experiment2-big_text-continuous/docs/AE_AI_230.txt', '../../data/experiment2-big_text-continuous/docs/AE_AI_240.txt', '../../data/experiment2-big_text-continuous/docs/AE_AI_250.txt', '../../data/experiment2-big_text-continuous/docs/AE_AI_260.txt', '../../data/experiment2-big_text-continuous/docs/AE_AI_270.txt', '../../data/experiment2-big_text-continuous/docs/AE_AI_280.txt', '../../data/experiment2-big_text-continuous/docs/AE_AI_290.txt', '../../data/experiment2-big_text-continuous/docs/AE_AI_300.txt', '../../data/experiment2-big_text-continuous/docs/AE_AI_310.txt', '../../data/experiment2-big_text-continuous/docs/AE_AI_320.txt', '../../data/experiment2-big_text-continuous/docs/AE_AI_330.txt', '../../data/experiment2-big_text-continuous/docs/AE_AI_340.txt', '../../data/experiment2-big_text-continuous/docs/AE_AI_350.txt', '../../data/experiment2-big_text-continuous/docs/AE_AI_360.txt', '../../data/experiment2-big_text-continuous/docs/AE_AI_370.txt', '../../data/experiment2-big_text-continuous/docs/AE_AI_380.txt', '../../data/experiment2-big_text-continuous/docs/AE_AI_390.txt', '../../data/experiment2-big_text-continuous/docs/AE_AI_400.txt', '../../data/experiment2-big_text-continuous/docs/AE_AI_410.txt', '../../data/experiment2-big_text-continuous/docs/AE_AI_420.txt', '../../data/experiment2-big_text-continuous/docs/AE_AI_430.txt', '../../data/experiment2-big_text-continuous/docs/AE_AI_440.txt', '../../data/experiment2-big_text-continuous/docs/AE_AI_450.txt', '../../data/experiment2-big_text-continuous/docs/AE_AI_460.txt', '../../data/experiment2-big_text-continuous/docs/AE_AI_470.txt', '../../data/experiment2-big_text-continuous/docs/AE_AI_480.txt', '../../data/experiment2-big_text-continuous/docs/AE_AI_490.txt', '../../data/experiment2-big_text-continuous/docs/AE_AI_500.txt', '../../data/experiment2-big_text-continuous/docs/AE_AI_510.txt', '../../data/experiment2-big_text-continuous/docs/AE_AI_520.txt', '../../data/experiment2-big_text-continuous/docs/AE_AI_530.txt', '../../data/experiment2-big_text-continuous/docs/AE_AI_540.txt', '../../data/experiment2-big_text-continuous/docs/AE_AI_550.txt', '../../data/experiment2-big_text-continuous/docs/AE_AI_560.txt', '../../data/experiment2-big_text-continuous/docs/AE_AI_570.txt', '../../data/experiment2-big_text-continuous/docs/AE_AI_580.txt', '../../data/experiment2-big_text-continuous/docs/AE_AI_590.txt', '../../data/experiment2-big_text-continuous/docs/AE_AI_600.txt', '../../data/experiment2-big_text-continuous/docs/AE_AI_610.txt', '../../data/experiment2-big_text-continuous/docs/AE_AI_620.txt', '../../data/experiment2-big_text-continuous/docs/AE_AI_630.txt', '../../data/experiment2-big_text-continuous/docs/AE_AI_640.txt', '../../data/experiment2-big_text-continuous/docs/AE_AI_650.txt', '../../data/experiment2-big_text-continuous/docs/AE_AI_660.txt', '../../data/experiment2-big_text-continuous/docs/AE_AI_670.txt', '../../data/experiment2-big_text-continuous/docs/AE_AI_680.txt', '../../data/experiment2-big_text-continuous/docs/AE_AI_690.txt', '../../data/experiment2-big_text-continuous/docs/AE_AI_700.txt', '../../data/experiment2-big_text-continuous/docs/AE_AI_710.txt', '../../data/experiment2-big_text-continuous/docs/AE_AI_720.txt', '../../data/experiment2-big_text-continuous/docs/AE_AI_730.txt', '../../data/experiment2-big_text-continuous/docs/AE_AI_740.txt', '../../data/experiment2-big_text-continuous/docs/AE_AI_750.txt', '../../data/experiment2-big_text-continuous/docs/AE_AI_760.txt', '../../data/experiment2-big_text-continuous/docs/AE_AI_770.txt', '../../data/experiment2-big_text-continuous/docs/AE_AI_780.txt', '../../data/experiment2-big_text-continuous/docs/AE_AI_790.txt', '../../data/experiment2-big_text-continuous/docs/AE_AI_800.txt', '../../data/experiment2-big_text-continuous/docs/AE_AI_810.txt', '../../data/experiment2-big_text-continuous/docs/AE_AI_820.txt', '../../data/experiment2-big_text-continuous/docs/AE_AI_830.txt', '../../data/experiment2-big_text-continuous/docs/AE_AI_840.txt', '../../data/experiment2-big_text-continuous/docs/AE_AI_850.txt', '../../data/experiment2-big_text-continuous/docs/AE_AI_860.txt', '../../data/experiment2-big_text-continuous/docs/AE_AI_870.txt', '../../data/experiment2-big_text-continuous/docs/AE_AI_880.txt', '../../data/experiment2-big_text-continuous/docs/AE_AI_890.txt', '../../data/experiment2-big_text-continuous/docs/AE_AI_900.txt', '../../data/experiment2-big_text-continuous/docs/AE_AI_910.txt', '../../data/experiment2-big_text-continuous/docs/AE_AI_920.txt', '../../data/experiment2-big_text-continuous/docs/AE_AI_930.txt', '../../data/experiment2-big_text-continuous/docs/AE_AI_940.txt', '../../data/experiment2-big_text-continuous/docs/AE_AI_950.txt', '../../data/experiment2-big_text-continuous/docs/AE_AI_960.txt', '../../data/experiment2-big_text-continuous/docs/AE_AI_970.txt', '../../data/experiment2-big_text-continuous/docs/AE_AI_980.txt', '../../data/experiment2-big_text-continuous/docs/AE_AI_990.txt', '../../data/experiment2-big_text-continuous/docs/AE_AI_1000.txt']\n",
      "\n",
      "ORG: ../../data/experiment2-big_text-continuous/docs/AE.txt\n"
     ]
    }
   ],
   "source": [
    "modelPath = \"../../models/fastText/fastText.model\"\n",
    "spacyPath =\"../../models/fastText/spacy.fastText.model\"\n",
    "experimentsClass = FastTextSimilarity(modelPath, spacyPath)\n",
    "\n",
    "pathDataExperiment1 = \"../../data/experiment1-small_text-continuous/\"\n",
    "pathDataExperiment2 = \"../../data/experiment2-big_text-continuous/docs/\"\n",
    "\n",
    "# DOCUMENTS EXPERIMENT 1\n",
    "\n",
    "print(\"DOCUMENTS EXPERIMENT 1\\n\")\n",
    "\n",
    "docsExp1 = []\n",
    "orgExp1 = \"\"\n",
    "for doc in listdir(pathDataExperiment1):\n",
    "    if doc.endswith(\".txt\"):\n",
    "        if doc[-7:] == \"ORG.txt\":\n",
    "            orgExp1 = pathDataExperiment1 + doc\n",
    "        else:\n",
    "            docsExp1.append(pathDataExperiment1 + doc)\n",
    "            \n",
    "docsExp1.sort(key = lambda x: int(x.split(\"_\")[-1][:-4]))\n",
    "            \n",
    "print(\"DOCS: \" + str(docsExp1) + \"\\n\")\n",
    "print(\"ORG: \" + orgExp1)\n",
    "\n",
    "\n",
    "# DOCUMENTS EXPERIMENT 2\n",
    "\n",
    "print(\"\\n DOCUMENTS EXPERIMENT 2\\n\")\n",
    "\n",
    "docsExp2 = []\n",
    "orgExp2 = \"\"\n",
    "for doc in listdir(pathDataExperiment2):\n",
    "    if doc.endswith(\".txt\"):\n",
    "        if doc == \"AE.txt\":\n",
    "            orgExp2 = pathDataExperiment2 + doc\n",
    "        elif doc == \"AI.txt\":\n",
    "            continue\n",
    "        else:\n",
    "            docsExp2.append(pathDataExperiment2 + doc)\n",
    "            \n",
    "docsExp2.sort(key = lambda x: int(x.split(\"_\")[-1][:-4]))\n",
    "            \n",
    "print(\"DOCS: \" + str(docsExp2) + \"\\n\")\n",
    "print(\"ORG: \" + orgExp2)"
   ]
  },
  {
   "cell_type": "markdown",
   "metadata": {
    "id": "ArAGyOl61Rgd"
   },
   "source": [
    "## Experiments"
   ]
  },
  {
   "cell_type": "markdown",
   "metadata": {
    "id": "Nl1BDjNa1Rge"
   },
   "source": [
    "### Experiment I (Small texts) - Model validation (Soft-Cosine Similarity)"
   ]
  },
  {
   "cell_type": "code",
   "execution_count": 4,
   "metadata": {
    "colab": {
     "base_uri": "https://localhost:8080/",
     "height": 377
    },
    "id": "w_AY7ATB1Rgf",
    "outputId": "440d9759-1f73-4461-9a93-4c239f951ef8"
   },
   "outputs": [],
   "source": [
    "results11 = []\n",
    "times11 = []\n",
    "\n",
    "for doc in docsExp1:\n",
    "    start_time = time.time()\n",
    "    results11.append(experimentsClass.distance(orgExp1, doc, 0, -1))\n",
    "    times11.append(time.time() - start_time)\n",
    "    \n",
    "results11 = [1 - x for x in results11]"
   ]
  },
  {
   "cell_type": "code",
   "execution_count": 6,
   "metadata": {
    "colab": {
     "base_uri": "https://localhost:8080/",
     "height": 279
    },
    "id": "MmzFutQO1Rgl",
    "outputId": "57f3324e-7369-4ebb-937a-0f3cf5d69442"
   },
   "outputs": [
    {
     "data": {
      "image/png": "[encoded data removed]",
      "text/plain": [
       "<Figure size 432x288 with 1 Axes>"
      ]
     },
     "metadata": {
      "needs_background": "light"
     },
     "output_type": "display_data"
    }
   ],
   "source": [
    "plt.xlabel('# sentences passed')\n",
    "plt.ylabel('distance')\n",
    "\n",
    "plt.plot(list(range(0, 110, 10)), results11)\n",
    "\n",
    "plt.savefig('../../figures/fastText_exp1_smallText_SoftCosine.png')"
   ]
  },
  {
   "cell_type": "code",
   "execution_count": 7,
   "metadata": {
    "colab": {
     "base_uri": "https://localhost:8080/",
     "height": 187
    },
    "id": "NdZNc4Fv1Rg5",
    "outputId": "e92077ae-2dde-4181-d6c4-e91339319ab0"
   },
   "outputs": [
    {
     "data": {
      "text/plain": [
       "[0.8075875411517452,\n",
       " 0.774616136111775,\n",
       " 0.7339394212723249,\n",
       " 0.690061199155383,\n",
       " 0.6214772082682956,\n",
       " 0.5702745859075289,\n",
       " 0.5128673174399505,\n",
       " 0.4780778436032187,\n",
       " 0.45638982110071247,\n",
       " 0.42186781543818963,\n",
       " 0.40016128941441276]"
      ]
     },
     "execution_count": 7,
     "metadata": {},
     "output_type": "execute_result"
    }
   ],
   "source": [
    "results11"
   ]
  },
  {
   "cell_type": "code",
   "execution_count": 8,
   "metadata": {
    "colab": {
     "base_uri": "https://localhost:8080/",
     "height": 34
    },
    "id": "_98lCD_u1RhG",
    "outputId": "10bcd8cf-c752-4ca8-b57c-8411498f3aff"
   },
   "outputs": [
    {
     "name": "stdout",
     "output_type": "stream",
     "text": [
      "Mean execution time: 3.5162009542638604\n"
     ]
    }
   ],
   "source": [
    "print(\"Mean execution time: \" + str(mean(times11)))"
   ]
  },
  {
   "cell_type": "code",
   "execution_count": 9,
   "metadata": {
    "colab": {
     "base_uri": "https://localhost:8080/",
     "height": 187
    },
    "id": "zwZJ6Wan1RhL",
    "outputId": "713f5a44-d044-4c98-dbd5-5da0acb5d6af"
   },
   "outputs": [
    {
     "data": {
      "text/plain": [
       "[4.089054107666016,\n",
       " 3.473850965499878,\n",
       " 3.376370906829834,\n",
       " 3.360150098800659,\n",
       " 3.2835097312927246,\n",
       " 3.526407241821289,\n",
       " 3.418281078338623,\n",
       " 3.855149269104004,\n",
       " 3.821782112121582,\n",
       " 3.2626030445098877,\n",
       " 3.2110519409179688]"
      ]
     },
     "execution_count": 9,
     "metadata": {},
     "output_type": "execute_result"
    }
   ],
   "source": [
    "times11"
   ]
  },
  {
   "cell_type": "markdown",
   "metadata": {
    "id": "kYoKCldI1RhU"
   },
   "source": [
    "### Experiment I (Small texts) - Model validation (Normal Word Mover's Distance)"
   ]
  },
  {
   "cell_type": "code",
   "execution_count": 10,
   "metadata": {
    "id": "3GO-EAAm1RhV"
   },
   "outputs": [],
   "source": [
    "results12n = []\n",
    "times12n = []\n",
    "\n",
    "for doc in docsExp1:\n",
    "    start_time = time.time()\n",
    "    results12n.append(experimentsClass.distance(orgExp1, doc, 1, False))\n",
    "    times12n.append(time.time() - start_time)"
   ]
  },
  {
   "cell_type": "code",
   "execution_count": 12,
   "metadata": {
    "colab": {
     "base_uri": "https://localhost:8080/",
     "height": 279
    },
    "id": "rrwk7JRW1RhZ",
    "outputId": "85f00ef6-1285-4092-811f-2bd8eb68a639"
   },
   "outputs": [
    {
     "data": {
      "image/png": "[encoded data removed]",
      "text/plain": [
       "<Figure size 432x288 with 1 Axes>"
      ]
     },
     "metadata": {
      "needs_background": "light"
     },
     "output_type": "display_data"
    }
   ],
   "source": [
    "plt.xlabel('# sentences passed')\n",
    "plt.ylabel('distance')\n",
    "\n",
    "plt.plot(list(range(0, 110, 10)), results12n)\n",
    "\n",
    "plt.savefig('../../figures/fastText_exp1_smallText_NormalWordMovers.png')"
   ]
  },
  {
   "cell_type": "code",
   "execution_count": 13,
   "metadata": {
    "colab": {
     "base_uri": "https://localhost:8080/",
     "height": 187
    },
    "id": "f0yuM21L1Rhc",
    "outputId": "d01e6d9c-0958-4f96-96c2-02b0f162d142"
   },
   "outputs": [
    {
     "data": {
      "text/plain": [
       "[0.9540644142951963,\n",
       " 0.923358055286978,\n",
       " 0.8880811382358246,\n",
       " 0.8557253719336434,\n",
       " 0.8082171741091713,\n",
       " 0.7591649712664034,\n",
       " 0.7257641153565493,\n",
       " 0.6983456436949361,\n",
       " 0.6834454692277863,\n",
       " 0.6561673788446754,\n",
       " 0.6369959266036161]"
      ]
     },
     "execution_count": 13,
     "metadata": {},
     "output_type": "execute_result"
    }
   ],
   "source": [
    "results12n"
   ]
  },
  {
   "cell_type": "code",
   "execution_count": 14,
   "metadata": {
    "colab": {
     "base_uri": "https://localhost:8080/",
     "height": 34
    },
    "id": "15v_nO0j1Rhh",
    "outputId": "2eedee15-749d-49cb-b4f7-fe165781e56b"
   },
   "outputs": [
    {
     "name": "stdout",
     "output_type": "stream",
     "text": [
      "Mean execution time: 41.71036973866549\n"
     ]
    }
   ],
   "source": [
    "print(\"Mean execution time: \" + str(mean(times12n)))"
   ]
  },
  {
   "cell_type": "code",
   "execution_count": 15,
   "metadata": {
    "colab": {
     "base_uri": "https://localhost:8080/",
     "height": 187
    },
    "id": "F1oUeXRv1Rhn",
    "outputId": "66e4e576-e0db-4561-9b6a-201636b0c0af"
   },
   "outputs": [
    {
     "data": {
      "text/plain": [
       "[40.77116394042969,\n",
       " 42.39766192436218,\n",
       " 48.72582483291626,\n",
       " 44.897939920425415,\n",
       " 41.039084911346436,\n",
       " 45.085426807403564,\n",
       " 38.87747383117676,\n",
       " 40.73581624031067,\n",
       " 41.379436016082764,\n",
       " 35.19652986526489,\n",
       " 39.70770883560181]"
      ]
     },
     "execution_count": 15,
     "metadata": {},
     "output_type": "execute_result"
    }
   ],
   "source": [
    "times12n"
   ]
  },
  {
   "cell_type": "markdown",
   "metadata": {},
   "source": [
    "### Experiment I (Small texts) - Model validation (Relaxed Word Mover's Distance)"
   ]
  },
  {
   "cell_type": "code",
   "execution_count": 16,
   "metadata": {},
   "outputs": [],
   "source": [
    "results12r = []\n",
    "times12r = []\n",
    "\n",
    "for doc in docsExp1:\n",
    "    start_time = time.time()\n",
    "    results12r.append(experimentsClass.distance(orgExp1, doc, 1, True))\n",
    "    times12r.append(time.time() - start_time)"
   ]
  },
  {
   "cell_type": "code",
   "execution_count": 18,
   "metadata": {},
   "outputs": [
    {
     "data": {
      "image/png": "[encoded data removed]",
      "text/plain": [
       "<Figure size 432x288 with 1 Axes>"
      ]
     },
     "metadata": {
      "needs_background": "light"
     },
     "output_type": "display_data"
    }
   ],
   "source": [
    "plt.xlabel('# sentences passed')\n",
    "plt.ylabel('distance')\n",
    "\n",
    "plt.plot(list(range(0, 110, 10)), results12r)\n",
    "\n",
    "plt.savefig('../../figures/fastText_exp1_smallText_RelaxedWordMovers.png')"
   ]
  },
  {
   "cell_type": "code",
   "execution_count": 19,
   "metadata": {},
   "outputs": [
    {
     "data": {
      "text/plain": [
       "[0.8452247381210327,\n",
       " 0.8174086213111877,\n",
       " 0.7836444973945618,\n",
       " 0.7568922638893127,\n",
       " 0.727196455001831,\n",
       " 0.6941430568695068,\n",
       " 0.6757186651229858,\n",
       " 0.6522220969200134,\n",
       " 0.6442768573760986,\n",
       " 0.6226644515991211,\n",
       " 0.6101983785629272]"
      ]
     },
     "execution_count": 19,
     "metadata": {},
     "output_type": "execute_result"
    }
   ],
   "source": [
    "results12r"
   ]
  },
  {
   "cell_type": "code",
   "execution_count": 20,
   "metadata": {},
   "outputs": [
    {
     "name": "stdout",
     "output_type": "stream",
     "text": [
      "Mean execution time: 0.3909784663807262\n"
     ]
    }
   ],
   "source": [
    "print(\"Mean execution time: \" + str(mean(times12r)))"
   ]
  },
  {
   "cell_type": "code",
   "execution_count": 21,
   "metadata": {},
   "outputs": [
    {
     "data": {
      "text/plain": [
       "[0.46164798736572266,\n",
       " 0.3648087978363037,\n",
       " 0.3386821746826172,\n",
       " 0.366610050201416,\n",
       " 0.3969449996948242,\n",
       " 0.43679189682006836,\n",
       " 0.3627040386199951,\n",
       " 0.41825413703918457,\n",
       " 0.3755309581756592,\n",
       " 0.36475491523742676,\n",
       " 0.4140331745147705]"
      ]
     },
     "execution_count": 21,
     "metadata": {},
     "output_type": "execute_result"
    }
   ],
   "source": [
    "times12r"
   ]
  },
  {
   "cell_type": "markdown",
   "metadata": {
    "id": "1uG3cCqO1Rh2"
   },
   "source": [
    "### Experiment II (Big texts) - Model validation (Soft-Cosine Similarity)"
   ]
  },
  {
   "cell_type": "code",
   "execution_count": 22,
   "metadata": {
    "colab": {
     "base_uri": "https://localhost:8080/",
     "height": 1000
    },
    "id": "HVRuFvCH1Rh2",
    "outputId": "d09d1571-29e3-4edd-e29b-48b6a64e94d4"
   },
   "outputs": [],
   "source": [
    "results21 = []\n",
    "times21 = []\n",
    "\n",
    "for doc in docsExp2:\n",
    "    start_time = time.time()\n",
    "    results21.append(experimentsClass.distance(orgExp2, doc, 0, -1))\n",
    "    times21.append(time.time() - start_time)\n",
    "    \n",
    "results21 = [1 - x for x in results21]"
   ]
  },
  {
   "cell_type": "code",
   "execution_count": 24,
   "metadata": {
    "colab": {
     "base_uri": "https://localhost:8080/",
     "height": 281
    },
    "id": "KWua0JA11Rh8",
    "outputId": "4cf87ef4-098f-435b-b9c5-01eabc040eb8"
   },
   "outputs": [
    {
     "data": {
      "image/png": "[encoded data removed]",
      "text/plain": [
       "<Figure size 432x288 with 1 Axes>"
      ]
     },
     "metadata": {
      "needs_background": "light"
     },
     "output_type": "display_data"
    }
   ],
   "source": [
    "plt.xlabel('# sentences passed')\n",
    "plt.ylabel('distance')\n",
    "\n",
    "plt.plot(list(range(0, 1010, 10)), results21)\n",
    "\n",
    "plt.savefig('../../figures/fastText_exp2_bigText_SoftCosine.png')"
   ]
  },
  {
   "cell_type": "code",
   "execution_count": 25,
   "metadata": {
    "colab": {
     "base_uri": "https://localhost:8080/",
     "height": 1000
    },
    "id": "HTEGTjFF1RiA",
    "outputId": "1f203825-7040-44e8-fadc-f5a3d020a0b2"
   },
   "outputs": [
    {
     "data": {
      "text/plain": [
       "[0.9737851871640965,\n",
       " 0.973533852094105,\n",
       " 0.9734201678729509,\n",
       " 0.9732019855137404,\n",
       " 0.9730300732886856,\n",
       " 0.9726930430402961,\n",
       " 0.9722458863691719,\n",
       " 0.9721324050543516,\n",
       " 0.9720066426192286,\n",
       " 0.9718554070741329,\n",
       " 0.9717340676042795,\n",
       " 0.9714774138474174,\n",
       " 0.9713003685682358,\n",
       " 0.9712423529844886,\n",
       " 0.9707803662001265,\n",
       " 0.9705091947674626,\n",
       " 0.9703978824336226,\n",
       " 0.9700782765383289,\n",
       " 0.9699837784031494,\n",
       " 0.9694993131801571,\n",
       " 0.9693305048503422,\n",
       " 0.9689676157527762,\n",
       " 0.9688342875860267,\n",
       " 0.9686942197567466,\n",
       " 0.9683348541822175,\n",
       " 0.9679249650617943,\n",
       " 0.9674855692265841,\n",
       " 0.9674205721613222,\n",
       " 0.9670162343324058,\n",
       " 0.9669150703967767,\n",
       " 0.9667127148813481,\n",
       " 0.9666245960883316,\n",
       " 0.9664062202722336,\n",
       " 0.9661647215228134,\n",
       " 0.9660686673469936,\n",
       " 0.965824457319214,\n",
       " 0.9654816052352435,\n",
       " 0.9651534782891912,\n",
       " 0.9649767191606021,\n",
       " 0.9648429284189274,\n",
       " 0.9647363810476468,\n",
       " 0.9646817250709249,\n",
       " 0.964427242842521,\n",
       " 0.9641635877759707,\n",
       " 0.9639911829554291,\n",
       " 0.9638110282344502,\n",
       " 0.9633212870594344,\n",
       " 0.9630091416549649,\n",
       " 0.962625812304305,\n",
       " 0.9625009727389713,\n",
       " 0.962433958242812,\n",
       " 0.9622470723430882,\n",
       " 0.9619487819941963,\n",
       " 0.961850332690364,\n",
       " 0.961546735888324,\n",
       " 0.9612313338721603,\n",
       " 0.9608452164866991,\n",
       " 0.9606938766458203,\n",
       " 0.9605623335029831,\n",
       " 0.9603644458133616,\n",
       " 0.9601251971294557,\n",
       " 0.9598989784448401,\n",
       " 0.9597845583159436,\n",
       " 0.9594674262645858,\n",
       " 0.9589162041400637,\n",
       " 0.9588126935510055,\n",
       " 0.9586917992722851,\n",
       " 0.9585619895423846,\n",
       " 0.958426755139762,\n",
       " 0.9581830491158881,\n",
       " 0.9578340895643542,\n",
       " 0.9577292900440959,\n",
       " 0.957343222174717,\n",
       " 0.9572264757182364,\n",
       " 0.957121839957873,\n",
       " 0.9570195935510559,\n",
       " 0.9567772476142851,\n",
       " 0.9566530879703389,\n",
       " 0.9564390980727779,\n",
       " 0.9561615280160793,\n",
       " 0.9560591873965887,\n",
       " 0.9558782949501435,\n",
       " 0.9554699471195213,\n",
       " 0.9552356300862446,\n",
       " 0.9550078957955278,\n",
       " 0.9546326508125177,\n",
       " 0.9544306755248422,\n",
       " 0.9538877040860791,\n",
       " 0.9534132199421843,\n",
       " 0.9532532439324176,\n",
       " 0.9531887730435001,\n",
       " 0.9527030430481322,\n",
       " 0.9525316766503219,\n",
       " 0.9524492178739165,\n",
       " 0.952121007369789,\n",
       " 0.9520522055910421,\n",
       " 0.9517336026047245,\n",
       " 0.951590428308786,\n",
       " 0.9515123659054879,\n",
       " 0.9513112528178236,\n",
       " 0.9510874956766674]"
      ]
     },
     "execution_count": 25,
     "metadata": {},
     "output_type": "execute_result"
    }
   ],
   "source": [
    "results21"
   ]
  },
  {
   "cell_type": "code",
   "execution_count": 26,
   "metadata": {
    "colab": {
     "base_uri": "https://localhost:8080/",
     "height": 34
    },
    "id": "BqiSMmgI1RiE",
    "outputId": "2dbc29b0-e40a-4c9d-8900-574c4dc4c247"
   },
   "outputs": [
    {
     "name": "stdout",
     "output_type": "stream",
     "text": [
      "Mean execution time: 19.817567466509225\n"
     ]
    }
   ],
   "source": [
    "print(\"Mean execution time: \" + str(mean(times21)))"
   ]
  },
  {
   "cell_type": "code",
   "execution_count": 36,
   "metadata": {},
   "outputs": [
    {
     "name": "stdout",
     "output_type": "stream",
     "text": [
      "Stdev execution time: 3.64504761454057\n"
     ]
    }
   ],
   "source": [
    "print(\"Stdev execution time: \" + str(stdev(times21)))"
   ]
  },
  {
   "cell_type": "code",
   "execution_count": 39,
   "metadata": {
    "colab": {
     "base_uri": "https://localhost:8080/",
     "height": 1000
    },
    "id": "wexQ2RPv1RiG",
    "outputId": "3aadac67-bb13-4dce-99e4-490a18ee293a"
   },
   "outputs": [
    {
     "data": {
      "text/plain": [
       "[21.04670000076294,\n",
       " 20.95235013961792,\n",
       " 17.66390872001648,\n",
       " 17.49127197265625,\n",
       " 17.646043300628662,\n",
       " 17.678126096725464,\n",
       " 17.777180910110474,\n",
       " 17.80192494392395,\n",
       " 17.845795154571533,\n",
       " 17.832530975341797,\n",
       " 17.785282850265503,\n",
       " 18.090886116027832,\n",
       " 17.851040840148926,\n",
       " 17.79252314567566,\n",
       " 18.11253786087036,\n",
       " 17.997343063354492,\n",
       " 17.96545100212097,\n",
       " 17.997183084487915,\n",
       " 18.054633140563965,\n",
       " 18.0282621383667,\n",
       " 18.014322996139526,\n",
       " 18.136047840118408,\n",
       " 18.026158094406128,\n",
       " 18.23767399787903,\n",
       " 18.134187936782837,\n",
       " 18.163537979125977,\n",
       " 20.618700981140137,\n",
       " 18.01903009414673,\n",
       " 18.05808997154236,\n",
       " 17.846956968307495,\n",
       " 17.88289475440979,\n",
       " 17.79976797103882,\n",
       " 17.820220232009888,\n",
       " 17.96471905708313,\n",
       " 18.06963801383972,\n",
       " 18.179033279418945,\n",
       " 18.4513840675354,\n",
       " 18.343685150146484,\n",
       " 18.075428009033203,\n",
       " 18.043874740600586,\n",
       " 18.210999011993408,\n",
       " 18.14833378791809,\n",
       " 19.51550793647766,\n",
       " 18.08286690711975,\n",
       " 18.288392066955566,\n",
       " 18.172757863998413,\n",
       " 18.157362937927246,\n",
       " 18.09819483757019,\n",
       " 18.31321692466736,\n",
       " 27.48984980583191,\n",
       " 21.86336612701416,\n",
       " 28.533164024353027,\n",
       " 25.269262075424194,\n",
       " 34.702473163604736,\n",
       " 22.399577140808105,\n",
       " 32.125492095947266,\n",
       " 41.990878105163574,\n",
       " 22.877772092819214,\n",
       " 25.90305495262146,\n",
       " 20.709322929382324,\n",
       " 23.113336086273193,\n",
       " 21.028482913970947,\n",
       " 23.170161962509155,\n",
       " 21.78978419303894,\n",
       " 22.636130809783936,\n",
       " 21.566942930221558,\n",
       " 21.963021993637085,\n",
       " 20.646733045578003,\n",
       " 23.05823278427124,\n",
       " 20.90660810470581,\n",
       " 20.38320302963257,\n",
       " 20.193900108337402,\n",
       " 18.557559728622437,\n",
       " 19.85988211631775,\n",
       " 18.624188899993896,\n",
       " 18.601160049438477,\n",
       " 18.635491132736206,\n",
       " 18.878835201263428,\n",
       " 18.54623818397522,\n",
       " 18.698987007141113,\n",
       " 18.749706029891968,\n",
       " 18.74153208732605,\n",
       " 18.660186052322388,\n",
       " 18.88000726699829,\n",
       " 18.697067975997925,\n",
       " 18.75399398803711,\n",
       " 18.87350082397461,\n",
       " 18.73950481414795,\n",
       " 18.657684803009033,\n",
       " 18.737435817718506,\n",
       " 18.725152015686035,\n",
       " 18.832801818847656,\n",
       " 18.758678197860718,\n",
       " 18.808125734329224,\n",
       " 18.82082486152649,\n",
       " 18.800895929336548,\n",
       " 18.791439056396484,\n",
       " 18.85727620124817,\n",
       " 18.801991939544678,\n",
       " 18.85983896255493,\n",
       " 19.019617080688477]"
      ]
     },
     "execution_count": 39,
     "metadata": {},
     "output_type": "execute_result"
    }
   ],
   "source": [
    "times21"
   ]
  },
  {
   "cell_type": "markdown",
   "metadata": {
    "id": "VN8UBgaV1RiP"
   },
   "source": [
    "### Experiment II (Big texts) - Model validation (Relaxed Word Mover's Distance)"
   ]
  },
  {
   "cell_type": "code",
   "execution_count": 29,
   "metadata": {
    "id": "qgPJgl8E1RiQ"
   },
   "outputs": [
    {
     "name": "stdout",
     "output_type": "stream",
     "text": [
      "57.1024808883667\n",
      "55.91094183921814\n",
      "55.332441091537476\n",
      "50.74978995323181\n",
      "48.44125699996948\n",
      "47.78327703475952\n",
      "52.40687394142151\n",
      "48.21312189102173\n",
      "48.8550238609314\n",
      "49.514325857162476\n",
      "53.96231389045715\n",
      "58.735076904296875\n",
      "54.0718789100647\n",
      "57.71220302581787\n",
      "55.58797597885132\n",
      "54.228362798690796\n",
      "55.10588598251343\n",
      "50.8955602645874\n",
      "56.64440989494324\n",
      "52.94968295097351\n",
      "52.77544283866882\n",
      "50.04562211036682\n",
      "53.50523805618286\n",
      "55.829489946365356\n",
      "58.65716314315796\n",
      "54.276225566864014\n",
      "59.20172309875488\n",
      "54.75910496711731\n",
      "61.18073916435242\n",
      "64.22225403785706\n",
      "62.82100296020508\n",
      "56.50874972343445\n",
      "51.34944725036621\n",
      "56.82758116722107\n",
      "52.22231078147888\n",
      "47.40941405296326\n",
      "60.29032921791077\n",
      "51.884073972702026\n",
      "50.31286120414734\n",
      "53.22440767288208\n",
      "59.30342674255371\n",
      "49.160849809646606\n",
      "52.6753249168396\n",
      "49.20097303390503\n",
      "53.097890853881836\n",
      "47.77794623374939\n",
      "54.246204137802124\n",
      "65.15419125556946\n",
      "65.06958985328674\n",
      "54.70825219154358\n",
      "57.908079862594604\n",
      "59.03143382072449\n",
      "56.110738039016724\n",
      "63.39803695678711\n",
      "56.923189878463745\n",
      "59.342427015304565\n",
      "61.70459008216858\n",
      "62.21183681488037\n",
      "62.91871905326843\n",
      "57.40676999092102\n",
      "60.218096017837524\n",
      "57.61474084854126\n",
      "62.845322132110596\n",
      "60.91787123680115\n",
      "55.96315288543701\n",
      "57.70156192779541\n",
      "62.22405815124512\n",
      "68.10268092155457\n",
      "71.97895216941833\n",
      "93.63337707519531\n",
      "78.57742118835449\n",
      "72.2757420539856\n",
      "66.59554195404053\n",
      "67.76015281677246\n",
      "52.14141607284546\n",
      "56.29371404647827\n",
      "83.31471490859985\n",
      "84.0747492313385\n",
      "67.58118510246277\n",
      "60.203436851501465\n",
      "61.46490502357483\n",
      "54.464346170425415\n",
      "52.5226628780365\n",
      "55.34058976173401\n",
      "55.88212823867798\n",
      "56.90657687187195\n",
      "52.21715712547302\n",
      "59.622824907302856\n",
      "57.10509490966797\n",
      "63.474127769470215\n",
      "54.20559573173523\n",
      "56.34689426422119\n",
      "59.19159007072449\n",
      "56.045777320861816\n",
      "59.00443506240845\n",
      "54.9915988445282\n",
      "52.56895995140076\n",
      "55.294655084609985\n",
      "58.52584719657898\n",
      "54.53916907310486\n",
      "55.505170822143555\n"
     ]
    }
   ],
   "source": [
    "results22 = []\n",
    "times22 = []\n",
    "\n",
    "for doc in docsExp2:\n",
    "    start_time = time.time()\n",
    "    results22.append(experimentsClass.distance(orgExp2, doc, 1, True))\n",
    "    times22.append(time.time() - start_time)\n",
    "    print(time.time() - start_time)"
   ]
  },
  {
   "cell_type": "code",
   "execution_count": 30,
   "metadata": {
    "id": "oopoO35N1RiT"
   },
   "outputs": [
    {
     "data": {
      "image/png": "[encoded data removed]",
      "text/plain": [
       "<Figure size 432x288 with 1 Axes>"
      ]
     },
     "metadata": {
      "needs_background": "light"
     },
     "output_type": "display_data"
    }
   ],
   "source": [
    "plt.xlabel('# sentences passed')\n",
    "plt.ylabel('distance')\n",
    "\n",
    "plt.plot(list(range(0, 1010, 10)), results22)\n",
    "\n",
    "plt.savefig('../../figures/fastText_exp2_bigText_WordMovers.png')"
   ]
  },
  {
   "cell_type": "code",
   "execution_count": 31,
   "metadata": {
    "id": "s4KZBn6s1RiV"
   },
   "outputs": [
    {
     "data": {
      "text/plain": [
       "[0.6811279058456421,\n",
       " 0.6777735352516174,\n",
       " 0.6760786175727844,\n",
       " 0.6731559038162231,\n",
       " 0.6717557907104492,\n",
       " 0.668492317199707,\n",
       " 0.6649396419525146,\n",
       " 0.6625218987464905,\n",
       " 0.6603379249572754,\n",
       " 0.6589414477348328,\n",
       " 0.6583234667778015,\n",
       " 0.6571045517921448,\n",
       " 0.6568289995193481,\n",
       " 0.6562240719795227,\n",
       " 0.6529537439346313,\n",
       " 0.6516688466072083,\n",
       " 0.6502915024757385,\n",
       " 0.648958146572113,\n",
       " 0.648003339767456,\n",
       " 0.6467181444168091,\n",
       " 0.6450492739677429,\n",
       " 0.6419402956962585,\n",
       " 0.6413304805755615,\n",
       " 0.6406089663505554,\n",
       " 0.6397640705108643,\n",
       " 0.6384731531143188,\n",
       " 0.6376314163208008,\n",
       " 0.6368014812469482,\n",
       " 0.6358388066291809,\n",
       " 0.6350687146186829,\n",
       " 0.6342286467552185,\n",
       " 0.6337064504623413,\n",
       " 0.6330305933952332,\n",
       " 0.6316955089569092,\n",
       " 0.6305536031723022,\n",
       " 0.6299673914909363,\n",
       " 0.6293436884880066,\n",
       " 0.628412127494812,\n",
       " 0.6281617879867554,\n",
       " 0.6265591382980347,\n",
       " 0.6254034042358398,\n",
       " 0.6244681477546692,\n",
       " 0.6230919361114502,\n",
       " 0.6224311590194702,\n",
       " 0.6219539642333984,\n",
       " 0.6212683320045471,\n",
       " 0.6204268336296082,\n",
       " 0.6187388896942139,\n",
       " 0.6182405948638916,\n",
       " 0.6174116134643555,\n",
       " 0.6170119643211365,\n",
       " 0.6159566044807434,\n",
       " 0.6154467463493347,\n",
       " 0.6146806478500366,\n",
       " 0.6136375069618225,\n",
       " 0.6130601763725281,\n",
       " 0.6122313141822815,\n",
       " 0.6119555830955505,\n",
       " 0.6110807061195374,\n",
       " 0.60999995470047,\n",
       " 0.6088488698005676,\n",
       " 0.6087285876274109,\n",
       " 0.6081879734992981,\n",
       " 0.607193648815155,\n",
       " 0.6068518757820129,\n",
       " 0.6066138744354248,\n",
       " 0.606120228767395,\n",
       " 0.6054306030273438,\n",
       " 0.6046562194824219,\n",
       " 0.6042632460594177,\n",
       " 0.6033235788345337,\n",
       " 0.6030837893486023,\n",
       " 0.6024748086929321,\n",
       " 0.6017924547195435,\n",
       " 0.601531445980072,\n",
       " 0.6012639403343201,\n",
       " 0.6007602214813232,\n",
       " 0.6001506447792053,\n",
       " 0.5996918678283691,\n",
       " 0.5987569093704224,\n",
       " 0.5984104871749878,\n",
       " 0.598088800907135,\n",
       " 0.5973077416419983,\n",
       " 0.5968608260154724,\n",
       " 0.5965175032615662,\n",
       " 0.595762312412262,\n",
       " 0.5941658616065979,\n",
       " 0.5936964154243469,\n",
       " 0.5924170017242432,\n",
       " 0.5922842025756836,\n",
       " 0.5918133854866028,\n",
       " 0.5911643505096436,\n",
       " 0.5910032391548157,\n",
       " 0.5907832384109497,\n",
       " 0.5898983478546143,\n",
       " 0.58952397108078,\n",
       " 0.588992178440094,\n",
       " 0.5886037945747375,\n",
       " 0.5879829525947571,\n",
       " 0.587441623210907,\n",
       " 0.5868318676948547]"
      ]
     },
     "execution_count": 31,
     "metadata": {},
     "output_type": "execute_result"
    }
   ],
   "source": [
    "results22"
   ]
  },
  {
   "cell_type": "code",
   "execution_count": 37,
   "metadata": {
    "id": "t_TjJbXk1RiX"
   },
   "outputs": [
    {
     "name": "stdout",
     "output_type": "stream",
     "text": [
      "Mean execution time: 57.862297893750785\n"
     ]
    }
   ],
   "source": [
    "print(\"Mean execution time: \" + str(mean(times22)))"
   ]
  },
  {
   "cell_type": "code",
   "execution_count": 38,
   "metadata": {},
   "outputs": [
    {
     "name": "stdout",
     "output_type": "stream",
     "text": [
      "Stdev execution time: 7.644498217441777\n"
     ]
    }
   ],
   "source": [
    "print(\"Stdev execution time: \" + str(stdev(times22)))"
   ]
  },
  {
   "cell_type": "code",
   "execution_count": 33,
   "metadata": {
    "id": "0IKsV03C1Rid"
   },
   "outputs": [
    {
     "data": {
      "text/plain": [
       "[57.10242986679077,\n",
       " 55.91094088554382,\n",
       " 55.33244013786316,\n",
       " 50.74978804588318,\n",
       " 48.44125509262085,\n",
       " 47.783276081085205,\n",
       " 52.40687298774719,\n",
       " 48.21311902999878,\n",
       " 48.855021953582764,\n",
       " 49.51432394981384,\n",
       " 53.96231198310852,\n",
       " 58.7350709438324,\n",
       " 54.071877002716064,\n",
       " 57.712198972702026,\n",
       " 55.587974071502686,\n",
       " 54.22836112976074,\n",
       " 55.105884075164795,\n",
       " 50.89555811882019,\n",
       " 56.64440870285034,\n",
       " 52.94968104362488,\n",
       " 52.775439977645874,\n",
       " 50.045620918273926,\n",
       " 53.50523591041565,\n",
       " 55.829488039016724,\n",
       " 58.65716099739075,\n",
       " 54.276222944259644,\n",
       " 59.201719999313354,\n",
       " 54.75910186767578,\n",
       " 61.180737018585205,\n",
       " 64.2222490310669,\n",
       " 62.821001052856445,\n",
       " 56.5087468624115,\n",
       " 51.349446296691895,\n",
       " 56.82757925987244,\n",
       " 52.22230887413025,\n",
       " 47.40941309928894,\n",
       " 60.290323972702026,\n",
       " 51.884072065353394,\n",
       " 50.31286001205444,\n",
       " 53.224406003952026,\n",
       " 59.30342411994934,\n",
       " 49.16084814071655,\n",
       " 52.67532396316528,\n",
       " 49.20097208023071,\n",
       " 53.0978889465332,\n",
       " 47.77794408798218,\n",
       " 54.24445676803589,\n",
       " 65.15415716171265,\n",
       " 65.06954908370972,\n",
       " 54.708250999450684,\n",
       " 57.90807795524597,\n",
       " 59.031431913375854,\n",
       " 56.11067199707031,\n",
       " 63.398030042648315,\n",
       " 56.92318797111511,\n",
       " 59.34242391586304,\n",
       " 61.70458698272705,\n",
       " 62.211835861206055,\n",
       " 62.91870379447937,\n",
       " 57.40676784515381,\n",
       " 60.21809411048889,\n",
       " 57.61473894119263,\n",
       " 62.84531903266907,\n",
       " 60.917869091033936,\n",
       " 55.9631507396698,\n",
       " 57.70156002044678,\n",
       " 62.22405505180359,\n",
       " 68.10265398025513,\n",
       " 71.978924036026,\n",
       " 93.63333773612976,\n",
       " 78.57739496231079,\n",
       " 72.27570486068726,\n",
       " 66.59551191329956,\n",
       " 67.76012396812439,\n",
       " 52.141414165496826,\n",
       " 56.29371190071106,\n",
       " 83.31466698646545,\n",
       " 84.07472109794617,\n",
       " 67.58118200302124,\n",
       " 60.20343494415283,\n",
       " 61.464900732040405,\n",
       " 54.4643440246582,\n",
       " 52.52266001701355,\n",
       " 55.34058904647827,\n",
       " 55.88212609291077,\n",
       " 56.906574010849,\n",
       " 52.217154026031494,\n",
       " 59.622822999954224,\n",
       " 57.10509204864502,\n",
       " 63.474124908447266,\n",
       " 54.20559477806091,\n",
       " 56.34689211845398,\n",
       " 59.191588163375854,\n",
       " 56.045775175094604,\n",
       " 59.004433155059814,\n",
       " 54.991596698760986,\n",
       " 52.56895685195923,\n",
       " 55.29465079307556,\n",
       " 58.52584409713745,\n",
       " 54.53916621208191,\n",
       " 55.50516986846924]"
      ]
     },
     "execution_count": 33,
     "metadata": {},
     "output_type": "execute_result"
    }
   ],
   "source": [
    "times22"
   ]
  },
  {
   "cell_type": "code",
   "execution_count": null,
   "metadata": {
    "id": "2PojztDV1Rih"
   },
   "outputs": [],
   "source": []
  }
 ],
 "metadata": {
  "colab": {
   "collapsed_sections": [],
   "name": "fastText - Experiments.ipynb",
   "provenance": [],
   "toc_visible": true
  },
  "kernelspec": {
   "display_name": "Python 3",
   "language": "python",
   "name": "python3"
  },
  "language_info": {
   "codemirror_mode": {
    "name": "ipython",
    "version": 3
   },
   "file_extension": ".py",
   "mimetype": "text/x-python",
   "name": "python",
   "nbconvert_exporter": "python",
   "pygments_lexer": "ipython3",
   "version": "3.7.9"
  }
 },
 "nbformat": 4,
 "nbformat_minor": 1
}
