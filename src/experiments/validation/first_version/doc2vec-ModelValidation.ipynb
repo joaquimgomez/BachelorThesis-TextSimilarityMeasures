{
 "cells": [
  {
   "cell_type": "markdown",
   "metadata": {},
   "source": [
    "# doc2vec"
   ]
  },
  {
   "cell_type": "markdown",
   "metadata": {},
   "source": [
    "Make exports available:"
   ]
  },
  {
   "cell_type": "code",
   "execution_count": 18,
   "metadata": {},
   "outputs": [],
   "source": [
    "import os\n",
    "import sys\n",
    "module_path = os.path.abspath(os.path.join('..'))\n",
    "if module_path not in sys.path:\n",
    "    sys.path.append(module_path)"
   ]
  },
  {
   "cell_type": "markdown",
   "metadata": {},
   "source": [
    "## Imports"
   ]
  },
  {
   "cell_type": "code",
   "execution_count": 42,
   "metadata": {},
   "outputs": [],
   "source": [
    "from similarities.similarities import Doc2VecSimilarity\n",
    "from os import listdir\n",
    "from statistics import mean, stdev\n",
    "import matplotlib.pyplot as plt\n",
    "import time"
   ]
  },
  {
   "cell_type": "markdown",
   "metadata": {},
   "source": [
    "## Definitions"
   ]
  },
  {
   "cell_type": "code",
   "execution_count": 29,
   "metadata": {},
   "outputs": [
    {
     "name": "stdout",
     "output_type": "stream",
     "text": [
      "DOCUMENTS EXPERIMENT 1\n",
      "\n",
      "DOCS: ['../../data/experiment1-small_text-continuous/180-CDIF_579-UMA_000.txt', '../../data/experiment1-small_text-continuous/180-CDIF_579-UMA_010.txt', '../../data/experiment1-small_text-continuous/180-CDIF_579-UMA_20.txt', '../../data/experiment1-small_text-continuous/180-CDIF_579-UMA_30.txt', '../../data/experiment1-small_text-continuous/180-CDIF_579-UMA_040.txt', '../../data/experiment1-small_text-continuous/180-CDIF_579-UMA_50.txt', '../../data/experiment1-small_text-continuous/180-CDIF_579-UMA_060.txt', '../../data/experiment1-small_text-continuous/180-CDIF_579-UMA_070.txt', '../../data/experiment1-small_text-continuous/180-CDIF_579-UMA_080.txt', '../../data/experiment1-small_text-continuous/180-CDIF_579-UMA_090.txt', '../../data/experiment1-small_text-continuous/180-CDIF_579-UMA_100.txt']\n",
      "\n",
      "ORG: ../../data/experiment1-small_text-continuous/ORG.txt\n",
      "\n",
      " DOCUMENTS EXPERIMENT 2\n",
      "\n",
      "DOCS: ['../../data/experiment2-big_text-continuous/docs/AE_AI_0.txt', '../../data/experiment2-big_text-continuous/docs/AE_AI_10.txt', '../../data/experiment2-big_text-continuous/docs/AE_AI_20.txt', '../../data/experiment2-big_text-continuous/docs/AE_AI_30.txt', '../../data/experiment2-big_text-continuous/docs/AE_AI_40.txt', '../../data/experiment2-big_text-continuous/docs/AE_AI_50.txt', '../../data/experiment2-big_text-continuous/docs/AE_AI_60.txt', '../../data/experiment2-big_text-continuous/docs/AE_AI_70.txt', '../../data/experiment2-big_text-continuous/docs/AE_AI_80.txt', '../../data/experiment2-big_text-continuous/docs/AE_AI_90.txt', '../../data/experiment2-big_text-continuous/docs/AE_AI_100.txt', '../../data/experiment2-big_text-continuous/docs/AE_AI_110.txt', '../../data/experiment2-big_text-continuous/docs/AE_AI_120.txt', '../../data/experiment2-big_text-continuous/docs/AE_AI_130.txt', '../../data/experiment2-big_text-continuous/docs/AE_AI_140.txt', '../../data/experiment2-big_text-continuous/docs/AE_AI_150.txt', '../../data/experiment2-big_text-continuous/docs/AE_AI_160.txt', '../../data/experiment2-big_text-continuous/docs/AE_AI_170.txt', '../../data/experiment2-big_text-continuous/docs/AE_AI_180.txt', '../../data/experiment2-big_text-continuous/docs/AE_AI_190.txt', '../../data/experiment2-big_text-continuous/docs/AE_AI_200.txt', '../../data/experiment2-big_text-continuous/docs/AE_AI_210.txt', '../../data/experiment2-big_text-continuous/docs/AE_AI_220.txt', '../../data/experiment2-big_text-continuous/docs/AE_AI_230.txt', '../../data/experiment2-big_text-continuous/docs/AE_AI_240.txt', '../../data/experiment2-big_text-continuous/docs/AE_AI_250.txt', '../../data/experiment2-big_text-continuous/docs/AE_AI_260.txt', '../../data/experiment2-big_text-continuous/docs/AE_AI_270.txt', '../../data/experiment2-big_text-continuous/docs/AE_AI_280.txt', '../../data/experiment2-big_text-continuous/docs/AE_AI_290.txt', '../../data/experiment2-big_text-continuous/docs/AE_AI_300.txt', '../../data/experiment2-big_text-continuous/docs/AE_AI_310.txt', '../../data/experiment2-big_text-continuous/docs/AE_AI_320.txt', '../../data/experiment2-big_text-continuous/docs/AE_AI_330.txt', '../../data/experiment2-big_text-continuous/docs/AE_AI_340.txt', '../../data/experiment2-big_text-continuous/docs/AE_AI_350.txt', '../../data/experiment2-big_text-continuous/docs/AE_AI_360.txt', '../../data/experiment2-big_text-continuous/docs/AE_AI_370.txt', '../../data/experiment2-big_text-continuous/docs/AE_AI_380.txt', '../../data/experiment2-big_text-continuous/docs/AE_AI_390.txt', '../../data/experiment2-big_text-continuous/docs/AE_AI_400.txt', '../../data/experiment2-big_text-continuous/docs/AE_AI_410.txt', '../../data/experiment2-big_text-continuous/docs/AE_AI_420.txt', '../../data/experiment2-big_text-continuous/docs/AE_AI_430.txt', '../../data/experiment2-big_text-continuous/docs/AE_AI_440.txt', '../../data/experiment2-big_text-continuous/docs/AE_AI_450.txt', '../../data/experiment2-big_text-continuous/docs/AE_AI_460.txt', '../../data/experiment2-big_text-continuous/docs/AE_AI_470.txt', '../../data/experiment2-big_text-continuous/docs/AE_AI_480.txt', '../../data/experiment2-big_text-continuous/docs/AE_AI_490.txt', '../../data/experiment2-big_text-continuous/docs/AE_AI_500.txt', '../../data/experiment2-big_text-continuous/docs/AE_AI_510.txt', '../../data/experiment2-big_text-continuous/docs/AE_AI_520.txt', '../../data/experiment2-big_text-continuous/docs/AE_AI_530.txt', '../../data/experiment2-big_text-continuous/docs/AE_AI_540.txt', '../../data/experiment2-big_text-continuous/docs/AE_AI_550.txt', '../../data/experiment2-big_text-continuous/docs/AE_AI_560.txt', '../../data/experiment2-big_text-continuous/docs/AE_AI_570.txt', '../../data/experiment2-big_text-continuous/docs/AE_AI_580.txt', '../../data/experiment2-big_text-continuous/docs/AE_AI_590.txt', '../../data/experiment2-big_text-continuous/docs/AE_AI_600.txt', '../../data/experiment2-big_text-continuous/docs/AE_AI_610.txt', '../../data/experiment2-big_text-continuous/docs/AE_AI_620.txt', '../../data/experiment2-big_text-continuous/docs/AE_AI_630.txt', '../../data/experiment2-big_text-continuous/docs/AE_AI_640.txt', '../../data/experiment2-big_text-continuous/docs/AE_AI_650.txt', '../../data/experiment2-big_text-continuous/docs/AE_AI_660.txt', '../../data/experiment2-big_text-continuous/docs/AE_AI_670.txt', '../../data/experiment2-big_text-continuous/docs/AE_AI_680.txt', '../../data/experiment2-big_text-continuous/docs/AE_AI_690.txt', '../../data/experiment2-big_text-continuous/docs/AE_AI_700.txt', '../../data/experiment2-big_text-continuous/docs/AE_AI_710.txt', '../../data/experiment2-big_text-continuous/docs/AE_AI_720.txt', '../../data/experiment2-big_text-continuous/docs/AE_AI_730.txt', '../../data/experiment2-big_text-continuous/docs/AE_AI_740.txt', '../../data/experiment2-big_text-continuous/docs/AE_AI_750.txt', '../../data/experiment2-big_text-continuous/docs/AE_AI_760.txt', '../../data/experiment2-big_text-continuous/docs/AE_AI_770.txt', '../../data/experiment2-big_text-continuous/docs/AE_AI_780.txt', '../../data/experiment2-big_text-continuous/docs/AE_AI_790.txt', '../../data/experiment2-big_text-continuous/docs/AE_AI_800.txt', '../../data/experiment2-big_text-continuous/docs/AE_AI_810.txt', '../../data/experiment2-big_text-continuous/docs/AE_AI_820.txt', '../../data/experiment2-big_text-continuous/docs/AE_AI_830.txt', '../../data/experiment2-big_text-continuous/docs/AE_AI_840.txt', '../../data/experiment2-big_text-continuous/docs/AE_AI_850.txt', '../../data/experiment2-big_text-continuous/docs/AE_AI_860.txt', '../../data/experiment2-big_text-continuous/docs/AE_AI_870.txt', '../../data/experiment2-big_text-continuous/docs/AE_AI_880.txt', '../../data/experiment2-big_text-continuous/docs/AE_AI_890.txt', '../../data/experiment2-big_text-continuous/docs/AE_AI_900.txt', '../../data/experiment2-big_text-continuous/docs/AE_AI_910.txt', '../../data/experiment2-big_text-continuous/docs/AE_AI_920.txt', '../../data/experiment2-big_text-continuous/docs/AE_AI_930.txt', '../../data/experiment2-big_text-continuous/docs/AE_AI_940.txt', '../../data/experiment2-big_text-continuous/docs/AE_AI_950.txt', '../../data/experiment2-big_text-continuous/docs/AE_AI_960.txt', '../../data/experiment2-big_text-continuous/docs/AE_AI_970.txt', '../../data/experiment2-big_text-continuous/docs/AE_AI_980.txt', '../../data/experiment2-big_text-continuous/docs/AE_AI_990.txt', '../../data/experiment2-big_text-continuous/docs/AE_AI_1000.txt']\n",
      "\n",
      "ORG: ../../data/experiment2-big_text-continuous/docs/AE.txt\n"
     ]
    }
   ],
   "source": [
    "modelPath = \"../../models/doc2vec/doc2vec.model\"\n",
    "experimentsClass = Doc2VecSimilarity(modelPath)\n",
    "\n",
    "pathDataExperiment1 = \"../../data/experiment1-small_text-continuous/\"\n",
    "pathDataExperiment2 = \"../../data/experiment2-big_text-continuous/docs/\"\n",
    "\n",
    "# DOCUMENTS EXPERIMENT 1\n",
    "\n",
    "print(\"DOCUMENTS EXPERIMENT 1\\n\")\n",
    "\n",
    "docsExp1 = []\n",
    "orgExp1 = \"\"\n",
    "for doc in listdir(pathDataExperiment1):\n",
    "    if doc.endswith(\".txt\"):\n",
    "        if doc[-7:] == \"ORG.txt\":\n",
    "            orgExp1 = pathDataExperiment1 + doc\n",
    "        else:\n",
    "            docsExp1.append(pathDataExperiment1 + doc)\n",
    "            \n",
    "docsExp1.sort(key = lambda x: int(x.split(\"_\")[-1][:-4]))\n",
    "            \n",
    "print(\"DOCS: \" + str(docsExp1) + \"\\n\")\n",
    "print(\"ORG: \" + orgExp1)\n",
    "\n",
    "\n",
    "# DOCUMENTS EXPERIMENT 2\n",
    "\n",
    "print(\"\\n DOCUMENTS EXPERIMENT 2\\n\")\n",
    "\n",
    "docsExp2 = []\n",
    "orgExp2 = \"\"\n",
    "for doc in listdir(pathDataExperiment2):\n",
    "    if doc.endswith(\".txt\"):\n",
    "        if doc == \"AE.txt\":\n",
    "            orgExp2 = pathDataExperiment2 + doc\n",
    "        elif doc == \"AI.txt\":\n",
    "            continue\n",
    "        else:\n",
    "            docsExp2.append(pathDataExperiment2 + doc)\n",
    "            \n",
    "docsExp2.sort(key = lambda x: int(x.split(\"_\")[-1][:-4]))\n",
    "            \n",
    "print(\"DOCS: \" + str(docsExp2) + \"\\n\")\n",
    "print(\"ORG: \" + orgExp2)"
   ]
  },
  {
   "cell_type": "markdown",
   "metadata": {},
   "source": [
    "## Experiments"
   ]
  },
  {
   "cell_type": "markdown",
   "metadata": {},
   "source": [
    "### Experiment I (Small texts) - Model validation (Cosine Similarity)"
   ]
  },
  {
   "cell_type": "code",
   "execution_count": 32,
   "metadata": {},
   "outputs": [],
   "source": [
    "results11 = []\n",
    "times11 = []\n",
    "\n",
    "for doc in docsExp1:\n",
    "    start_time = time.time()\n",
    "    results11.append(experimentsClass.distance(orgExp1, doc))\n",
    "    times11.append(time.time() - start_time)"
   ]
  },
  {
   "cell_type": "code",
   "execution_count": 33,
   "metadata": {},
   "outputs": [
    {
     "data": {
      "image/png": "[encoded data removed]",
      "text/plain": [
       "<Figure size 432x288 with 1 Axes>"
      ]
     },
     "metadata": {
      "needs_background": "light"
     },
     "output_type": "display_data"
    }
   ],
   "source": [
    "plt.xlabel('# sentences passed')\n",
    "plt.ylabel('distance')\n",
    "\n",
    "plt.plot(list(range(0, 110, 10)), results11)\n",
    "\n",
    "plt.savefig('../../figures/doc2vec_exp1_smallText_SoftCosine.png')"
   ]
  },
  {
   "cell_type": "code",
   "execution_count": 34,
   "metadata": {},
   "outputs": [
    {
     "data": {
      "text/plain": [
       "[0.6985641419887543,\n",
       " 0.6571228802204132,\n",
       " 0.6321391463279724,\n",
       " 0.575277715921402,\n",
       " 0.5656104683876038,\n",
       " 0.51866614818573,\n",
       " 0.468136727809906,\n",
       " 0.4746122360229492,\n",
       " 0.44308823347091675,\n",
       " 0.430841863155365,\n",
       " 0.4229193925857544]"
      ]
     },
     "execution_count": 34,
     "metadata": {},
     "output_type": "execute_result"
    }
   ],
   "source": [
    "results11"
   ]
  },
  {
   "cell_type": "code",
   "execution_count": 35,
   "metadata": {},
   "outputs": [
    {
     "name": "stdout",
     "output_type": "stream",
     "text": [
      "Mean execution time: 0.3261755813251842\n"
     ]
    }
   ],
   "source": [
    "print(\"Mean execution time: \" + str(mean(times11)))"
   ]
  },
  {
   "cell_type": "code",
   "execution_count": 36,
   "metadata": {},
   "outputs": [
    {
     "data": {
      "text/plain": [
       "[0.2490401268005371,\n",
       " 0.2555723190307617,\n",
       " 0.23326635360717773,\n",
       " 0.37261533737182617,\n",
       " 0.3858981132507324,\n",
       " 0.31760501861572266,\n",
       " 0.3521273136138916,\n",
       " 0.3356621265411377,\n",
       " 0.46288275718688965,\n",
       " 0.28398990631103516,\n",
       " 0.33927202224731445]"
      ]
     },
     "execution_count": 36,
     "metadata": {},
     "output_type": "execute_result"
    }
   ],
   "source": [
    "times11"
   ]
  },
  {
   "cell_type": "markdown",
   "metadata": {},
   "source": [
    "### Experiment II (Big texts) - Model validation (Cosine Similarity)"
   ]
  },
  {
   "cell_type": "code",
   "execution_count": 37,
   "metadata": {},
   "outputs": [],
   "source": [
    "results21 = []\n",
    "times21 = []\n",
    "\n",
    "for doc in docsExp2:\n",
    "    start_time = time.time()\n",
    "    results21.append(experimentsClass.distance(orgExp2, doc))\n",
    "    times21.append(time.time() - start_time)"
   ]
  },
  {
   "cell_type": "code",
   "execution_count": 38,
   "metadata": {},
   "outputs": [
    {
     "data": {
      "image/png": "[encoded data removed]",
      "text/plain": [
       "<Figure size 432x288 with 1 Axes>"
      ]
     },
     "metadata": {
      "needs_background": "light"
     },
     "output_type": "display_data"
    }
   ],
   "source": [
    "plt.xlabel('# sentences passed')\n",
    "plt.ylabel('distance')\n",
    "\n",
    "plt.plot(list(range(0, 1010, 10)), results21)\n",
    "\n",
    "plt.savefig('../../figures/doc2vec_exp2_bigText_SoftCosine.png')"
   ]
  },
  {
   "cell_type": "code",
   "execution_count": 39,
   "metadata": {},
   "outputs": [
    {
     "data": {
      "text/plain": [
       "[0.9318867623806,\n",
       " 0.9272798597812653,\n",
       " 0.931022547185421,\n",
       " 0.9133866652846336,\n",
       " 0.9082618951797485,\n",
       " 0.9059294015169144,\n",
       " 0.900351420044899,\n",
       " 0.8993187323212624,\n",
       " 0.8896000236272812,\n",
       " 0.8870681151747704,\n",
       " 0.895465575158596,\n",
       " 0.8773333430290222,\n",
       " 0.8824160024523735,\n",
       " 0.8680273741483688,\n",
       " 0.8539831787347794,\n",
       " 0.8552930653095245,\n",
       " 0.8466742187738419,\n",
       " 0.851474866271019,\n",
       " 0.8354351669549942,\n",
       " 0.8329156339168549,\n",
       " 0.8367585241794586,\n",
       " 0.825047180056572,\n",
       " 0.8283314853906631,\n",
       " 0.8275591284036636,\n",
       " 0.8227192610502243,\n",
       " 0.8060267567634583,\n",
       " 0.8180917054414749,\n",
       " 0.8141107708215714,\n",
       " 0.8095961809158325,\n",
       " 0.8057059049606323,\n",
       " 0.8019043058156967,\n",
       " 0.7996693849563599,\n",
       " 0.7935248762369156,\n",
       " 0.7988331019878387,\n",
       " 0.8078171908855438,\n",
       " 0.7941550612449646,\n",
       " 0.8040644079446793,\n",
       " 0.7959850132465363,\n",
       " 0.7872982770204544,\n",
       " 0.7830264419317245,\n",
       " 0.8019326627254486,\n",
       " 0.7880126088857651,\n",
       " 0.7965443730354309,\n",
       " 0.7974401861429214,\n",
       " 0.7896314114332199,\n",
       " 0.7917274832725525,\n",
       " 0.7852763235569,\n",
       " 0.7899106591939926,\n",
       " 0.7904434055089951,\n",
       " 0.7882771193981171,\n",
       " 0.7811197191476822,\n",
       " 0.7679954171180725,\n",
       " 0.7774229347705841,\n",
       " 0.7748545110225677,\n",
       " 0.7695631831884384,\n",
       " 0.7698437720537186,\n",
       " 0.7835008949041367,\n",
       " 0.7644826918840408,\n",
       " 0.76071697473526,\n",
       " 0.7696502059698105,\n",
       " 0.7663644105195999,\n",
       " 0.7779316455125809,\n",
       " 0.7655759304761887,\n",
       " 0.7498662769794464,\n",
       " 0.7647502422332764,\n",
       " 0.7639541923999786,\n",
       " 0.7631859928369522,\n",
       " 0.7548902779817581,\n",
       " 0.7616031467914581,\n",
       " 0.7564639896154404,\n",
       " 0.756914496421814,\n",
       " 0.7526240795850754,\n",
       " 0.7463480234146118,\n",
       " 0.7581986635923386,\n",
       " 0.7365372478961945,\n",
       " 0.7505060881376266,\n",
       " 0.7388773560523987,\n",
       " 0.748321533203125,\n",
       " 0.7559733539819717,\n",
       " 0.7537228465080261,\n",
       " 0.7422924041748047,\n",
       " 0.7497284710407257,\n",
       " 0.7490346133708954,\n",
       " 0.7409838736057281,\n",
       " 0.7368756234645844,\n",
       " 0.7445108294487,\n",
       " 0.7382018566131592,\n",
       " 0.7471318542957306,\n",
       " 0.7340060174465179,\n",
       " 0.7325876951217651,\n",
       " 0.7229146659374237,\n",
       " 0.7342229783535004,\n",
       " 0.7334390580654144,\n",
       " 0.7374990880489349,\n",
       " 0.7286362648010254,\n",
       " 0.7200443148612976,\n",
       " 0.7338510453701019,\n",
       " 0.7262044847011566,\n",
       " 0.7356486320495605,\n",
       " 0.7200023233890533,\n",
       " 0.7133020460605621]"
      ]
     },
     "execution_count": 39,
     "metadata": {},
     "output_type": "execute_result"
    }
   ],
   "source": [
    "results21"
   ]
  },
  {
   "cell_type": "code",
   "execution_count": 41,
   "metadata": {},
   "outputs": [
    {
     "name": "stdout",
     "output_type": "stream",
     "text": [
      "Mean execution time: 2.0780317901384713\n"
     ]
    }
   ],
   "source": [
    "print(\"Mean execution time: \" + str(mean(times21)))"
   ]
  },
  {
   "cell_type": "code",
   "execution_count": 43,
   "metadata": {},
   "outputs": [
    {
     "name": "stdout",
     "output_type": "stream",
     "text": [
      "Stdev execution time: 0.4092693465562563\n"
     ]
    }
   ],
   "source": [
    "print(\"Stdev execution time: \" + str(stdev(times21)))"
   ]
  },
  {
   "cell_type": "code",
   "execution_count": 40,
   "metadata": {},
   "outputs": [
    {
     "data": {
      "text/plain": [
       "[2.2128829956054688,\n",
       " 1.7970750331878662,\n",
       " 1.9187061786651611,\n",
       " 2.013059139251709,\n",
       " 2.213408946990967,\n",
       " 1.9728219509124756,\n",
       " 1.83197021484375,\n",
       " 1.5304059982299805,\n",
       " 1.9952847957611084,\n",
       " 1.720937967300415,\n",
       " 1.623133897781372,\n",
       " 1.5718269348144531,\n",
       " 1.6483800411224365,\n",
       " 1.8402550220489502,\n",
       " 1.7235000133514404,\n",
       " 1.8239829540252686,\n",
       " 1.8754088878631592,\n",
       " 1.716644048690796,\n",
       " 1.678454875946045,\n",
       " 1.8687469959259033,\n",
       " 1.778843879699707,\n",
       " 1.7822420597076416,\n",
       " 2.2583580017089844,\n",
       " 2.9868459701538086,\n",
       " 1.9656178951263428,\n",
       " 1.9979989528656006,\n",
       " 2.132962942123413,\n",
       " 1.9633598327636719,\n",
       " 2.099475860595703,\n",
       " 1.6397829055786133,\n",
       " 1.8892631530761719,\n",
       " 2.5121641159057617,\n",
       " 2.384941816329956,\n",
       " 1.8053040504455566,\n",
       " 2.262295961380005,\n",
       " 2.1172659397125244,\n",
       " 2.7597708702087402,\n",
       " 2.838489055633545,\n",
       " 3.038156032562256,\n",
       " 2.549192190170288,\n",
       " 2.603588104248047,\n",
       " 3.164419174194336,\n",
       " 2.6099319458007812,\n",
       " 2.743013858795166,\n",
       " 1.8878591060638428,\n",
       " 2.5903379917144775,\n",
       " 3.310657024383545,\n",
       " 1.6998109817504883,\n",
       " 2.835616111755371,\n",
       " 1.8024938106536865,\n",
       " 3.5222461223602295,\n",
       " 2.627952814102173,\n",
       " 2.6485021114349365,\n",
       " 2.5322000980377197,\n",
       " 1.9624478816986084,\n",
       " 2.776057004928589,\n",
       " 2.105656147003174,\n",
       " 2.6531269550323486,\n",
       " 2.199540853500366,\n",
       " 2.0945870876312256,\n",
       " 1.7456378936767578,\n",
       " 1.833355188369751,\n",
       " 1.5910372734069824,\n",
       " 1.8476529121398926,\n",
       " 1.56892991065979,\n",
       " 1.5412428379058838,\n",
       " 1.5611422061920166,\n",
       " 1.9354090690612793,\n",
       " 1.9563469886779785,\n",
       " 2.1613709926605225,\n",
       " 2.0277578830718994,\n",
       " 2.038451910018921,\n",
       " 1.8916599750518799,\n",
       " 1.8993451595306396,\n",
       " 1.9384839534759521,\n",
       " 1.8469200134277344,\n",
       " 1.7660911083221436,\n",
       " 2.051132917404175,\n",
       " 1.8895750045776367,\n",
       " 1.953160285949707,\n",
       " 2.2416839599609375,\n",
       " 2.011721134185791,\n",
       " 1.955941915512085,\n",
       " 2.0059099197387695,\n",
       " 1.850815773010254,\n",
       " 1.8778598308563232,\n",
       " 2.1481401920318604,\n",
       " 2.0445809364318848,\n",
       " 2.0854272842407227,\n",
       " 1.9000473022460938,\n",
       " 2.031989097595215,\n",
       " 1.845458984375,\n",
       " 2.1762759685516357,\n",
       " 1.6391539573669434,\n",
       " 2.1734750270843506,\n",
       " 1.7898640632629395,\n",
       " 1.7723801136016846,\n",
       " 2.0070621967315674,\n",
       " 1.8262519836425781,\n",
       " 1.8304240703582764,\n",
       " 1.9127800464630127]"
      ]
     },
     "execution_count": 40,
     "metadata": {},
     "output_type": "execute_result"
    }
   ],
   "source": [
    "times21"
   ]
  },
  {
   "cell_type": "code",
   "execution_count": null,
   "metadata": {},
   "outputs": [],
   "source": []
  }
 ],
 "metadata": {
  "kernelspec": {
   "display_name": "Python 3",
   "language": "python",
   "name": "python3"
  },
  "language_info": {
   "codemirror_mode": {
    "name": "ipython",
    "version": 3
   },
   "file_extension": ".py",
   "mimetype": "text/x-python",
   "name": "python",
   "nbconvert_exporter": "python",
   "pygments_lexer": "ipython3",
   "version": "3.7.9"
  }
 },
 "nbformat": 4,
 "nbformat_minor": 4
}
