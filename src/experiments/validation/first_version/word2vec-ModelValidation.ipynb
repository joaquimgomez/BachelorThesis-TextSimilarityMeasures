{
 "cells": [
  {
   "cell_type": "markdown",
   "metadata": {},
   "source": [
    "# word2vec"
   ]
  },
  {
   "cell_type": "markdown",
   "metadata": {},
   "source": [
    "Make exports available:"
   ]
  },
  {
   "cell_type": "code",
   "execution_count": 1,
   "metadata": {},
   "outputs": [],
   "source": [
    "import os\n",
    "import sys\n",
    "module_path = os.path.abspath(os.path.join('..'))\n",
    "if module_path not in sys.path:\n",
    "    sys.path.append(module_path)"
   ]
  },
  {
   "cell_type": "markdown",
   "metadata": {},
   "source": [
    "## Imports"
   ]
  },
  {
   "cell_type": "code",
   "execution_count": 31,
   "metadata": {},
   "outputs": [],
   "source": [
    "from similarities.similarities import Word2VecSimilarity\n",
    "from os import listdir\n",
    "from statistics import mean, stdev\n",
    "import matplotlib.pyplot as plt\n",
    "import time"
   ]
  },
  {
   "cell_type": "markdown",
   "metadata": {},
   "source": [
    "## Definitions"
   ]
  },
  {
   "cell_type": "code",
   "execution_count": 3,
   "metadata": {
    "scrolled": false
   },
   "outputs": [
    {
     "name": "stdout",
     "output_type": "stream",
     "text": [
      "DOCUMENTS EXPERIMENT 1\n",
      "\n",
      "DOCS: ['../../data/experiment1-small_text-continuous/180-CDIF_579-UMA_000.txt', '../../data/experiment1-small_text-continuous/180-CDIF_579-UMA_010.txt', '../../data/experiment1-small_text-continuous/180-CDIF_579-UMA_20.txt', '../../data/experiment1-small_text-continuous/180-CDIF_579-UMA_30.txt', '../../data/experiment1-small_text-continuous/180-CDIF_579-UMA_040.txt', '../../data/experiment1-small_text-continuous/180-CDIF_579-UMA_50.txt', '../../data/experiment1-small_text-continuous/180-CDIF_579-UMA_060.txt', '../../data/experiment1-small_text-continuous/180-CDIF_579-UMA_070.txt', '../../data/experiment1-small_text-continuous/180-CDIF_579-UMA_080.txt', '../../data/experiment1-small_text-continuous/180-CDIF_579-UMA_090.txt', '../../data/experiment1-small_text-continuous/180-CDIF_579-UMA_100.txt']\n",
      "\n",
      "ORG: ../../data/experiment1-small_text-continuous/ORG.txt\n",
      "\n",
      " DOCUMENTS EXPERIMENT 2\n",
      "\n",
      "DOCS: ['../../data/experiment2-big_text-continuous/docs/AE_AI_0.txt', '../../data/experiment2-big_text-continuous/docs/AE_AI_10.txt', '../../data/experiment2-big_text-continuous/docs/AE_AI_20.txt', '../../data/experiment2-big_text-continuous/docs/AE_AI_30.txt', '../../data/experiment2-big_text-continuous/docs/AE_AI_40.txt', '../../data/experiment2-big_text-continuous/docs/AE_AI_50.txt', '../../data/experiment2-big_text-continuous/docs/AE_AI_60.txt', '../../data/experiment2-big_text-continuous/docs/AE_AI_70.txt', '../../data/experiment2-big_text-continuous/docs/AE_AI_80.txt', '../../data/experiment2-big_text-continuous/docs/AE_AI_90.txt', '../../data/experiment2-big_text-continuous/docs/AE_AI_100.txt', '../../data/experiment2-big_text-continuous/docs/AE_AI_110.txt', '../../data/experiment2-big_text-continuous/docs/AE_AI_120.txt', '../../data/experiment2-big_text-continuous/docs/AE_AI_130.txt', '../../data/experiment2-big_text-continuous/docs/AE_AI_140.txt', '../../data/experiment2-big_text-continuous/docs/AE_AI_150.txt', '../../data/experiment2-big_text-continuous/docs/AE_AI_160.txt', '../../data/experiment2-big_text-continuous/docs/AE_AI_170.txt', '../../data/experiment2-big_text-continuous/docs/AE_AI_180.txt', '../../data/experiment2-big_text-continuous/docs/AE_AI_190.txt', '../../data/experiment2-big_text-continuous/docs/AE_AI_200.txt', '../../data/experiment2-big_text-continuous/docs/AE_AI_210.txt', '../../data/experiment2-big_text-continuous/docs/AE_AI_220.txt', '../../data/experiment2-big_text-continuous/docs/AE_AI_230.txt', '../../data/experiment2-big_text-continuous/docs/AE_AI_240.txt', '../../data/experiment2-big_text-continuous/docs/AE_AI_250.txt', '../../data/experiment2-big_text-continuous/docs/AE_AI_260.txt', '../../data/experiment2-big_text-continuous/docs/AE_AI_270.txt', '../../data/experiment2-big_text-continuous/docs/AE_AI_280.txt', '../../data/experiment2-big_text-continuous/docs/AE_AI_290.txt', '../../data/experiment2-big_text-continuous/docs/AE_AI_300.txt', '../../data/experiment2-big_text-continuous/docs/AE_AI_310.txt', '../../data/experiment2-big_text-continuous/docs/AE_AI_320.txt', '../../data/experiment2-big_text-continuous/docs/AE_AI_330.txt', '../../data/experiment2-big_text-continuous/docs/AE_AI_340.txt', '../../data/experiment2-big_text-continuous/docs/AE_AI_350.txt', '../../data/experiment2-big_text-continuous/docs/AE_AI_360.txt', '../../data/experiment2-big_text-continuous/docs/AE_AI_370.txt', '../../data/experiment2-big_text-continuous/docs/AE_AI_380.txt', '../../data/experiment2-big_text-continuous/docs/AE_AI_390.txt', '../../data/experiment2-big_text-continuous/docs/AE_AI_400.txt', '../../data/experiment2-big_text-continuous/docs/AE_AI_410.txt', '../../data/experiment2-big_text-continuous/docs/AE_AI_420.txt', '../../data/experiment2-big_text-continuous/docs/AE_AI_430.txt', '../../data/experiment2-big_text-continuous/docs/AE_AI_440.txt', '../../data/experiment2-big_text-continuous/docs/AE_AI_450.txt', '../../data/experiment2-big_text-continuous/docs/AE_AI_460.txt', '../../data/experiment2-big_text-continuous/docs/AE_AI_470.txt', '../../data/experiment2-big_text-continuous/docs/AE_AI_480.txt', '../../data/experiment2-big_text-continuous/docs/AE_AI_490.txt', '../../data/experiment2-big_text-continuous/docs/AE_AI_500.txt', '../../data/experiment2-big_text-continuous/docs/AE_AI_510.txt', '../../data/experiment2-big_text-continuous/docs/AE_AI_520.txt', '../../data/experiment2-big_text-continuous/docs/AE_AI_530.txt', '../../data/experiment2-big_text-continuous/docs/AE_AI_540.txt', '../../data/experiment2-big_text-continuous/docs/AE_AI_550.txt', '../../data/experiment2-big_text-continuous/docs/AE_AI_560.txt', '../../data/experiment2-big_text-continuous/docs/AE_AI_570.txt', '../../data/experiment2-big_text-continuous/docs/AE_AI_580.txt', '../../data/experiment2-big_text-continuous/docs/AE_AI_590.txt', '../../data/experiment2-big_text-continuous/docs/AE_AI_600.txt', '../../data/experiment2-big_text-continuous/docs/AE_AI_610.txt', '../../data/experiment2-big_text-continuous/docs/AE_AI_620.txt', '../../data/experiment2-big_text-continuous/docs/AE_AI_630.txt', '../../data/experiment2-big_text-continuous/docs/AE_AI_640.txt', '../../data/experiment2-big_text-continuous/docs/AE_AI_650.txt', '../../data/experiment2-big_text-continuous/docs/AE_AI_660.txt', '../../data/experiment2-big_text-continuous/docs/AE_AI_670.txt', '../../data/experiment2-big_text-continuous/docs/AE_AI_680.txt', '../../data/experiment2-big_text-continuous/docs/AE_AI_690.txt', '../../data/experiment2-big_text-continuous/docs/AE_AI_700.txt', '../../data/experiment2-big_text-continuous/docs/AE_AI_710.txt', '../../data/experiment2-big_text-continuous/docs/AE_AI_720.txt', '../../data/experiment2-big_text-continuous/docs/AE_AI_730.txt', '../../data/experiment2-big_text-continuous/docs/AE_AI_740.txt', '../../data/experiment2-big_text-continuous/docs/AE_AI_750.txt', '../../data/experiment2-big_text-continuous/docs/AE_AI_760.txt', '../../data/experiment2-big_text-continuous/docs/AE_AI_770.txt', '../../data/experiment2-big_text-continuous/docs/AE_AI_780.txt', '../../data/experiment2-big_text-continuous/docs/AE_AI_790.txt', '../../data/experiment2-big_text-continuous/docs/AE_AI_800.txt', '../../data/experiment2-big_text-continuous/docs/AE_AI_810.txt', '../../data/experiment2-big_text-continuous/docs/AE_AI_820.txt', '../../data/experiment2-big_text-continuous/docs/AE_AI_830.txt', '../../data/experiment2-big_text-continuous/docs/AE_AI_840.txt', '../../data/experiment2-big_text-continuous/docs/AE_AI_850.txt', '../../data/experiment2-big_text-continuous/docs/AE_AI_860.txt', '../../data/experiment2-big_text-continuous/docs/AE_AI_870.txt', '../../data/experiment2-big_text-continuous/docs/AE_AI_880.txt', '../../data/experiment2-big_text-continuous/docs/AE_AI_890.txt', '../../data/experiment2-big_text-continuous/docs/AE_AI_900.txt', '../../data/experiment2-big_text-continuous/docs/AE_AI_910.txt', '../../data/experiment2-big_text-continuous/docs/AE_AI_920.txt', '../../data/experiment2-big_text-continuous/docs/AE_AI_930.txt', '../../data/experiment2-big_text-continuous/docs/AE_AI_940.txt', '../../data/experiment2-big_text-continuous/docs/AE_AI_950.txt', '../../data/experiment2-big_text-continuous/docs/AE_AI_960.txt', '../../data/experiment2-big_text-continuous/docs/AE_AI_970.txt', '../../data/experiment2-big_text-continuous/docs/AE_AI_980.txt', '../../data/experiment2-big_text-continuous/docs/AE_AI_990.txt', '../../data/experiment2-big_text-continuous/docs/AE_AI_1000.txt']\n",
      "\n",
      "ORG: ../../data/experiment2-big_text-continuous/docs/AE.txt\n"
     ]
    }
   ],
   "source": [
    "modelPath = \"../../models/word2vec/word2vec.model\"\n",
    "spacyPath =\"../../models/word2vec/spacy.word2vec.model\"\n",
    "experimentsClass = Word2VecSimilarity(modelPath, spacyPath)\n",
    "\n",
    "pathDataExperiment1 = \"../../data/experiment1-small_text-continuous/\"\n",
    "pathDataExperiment2 = \"../../data/experiment2-big_text-continuous/docs/\"\n",
    "\n",
    "# DOCUMENTS EXPERIMENT 1\n",
    "\n",
    "print(\"DOCUMENTS EXPERIMENT 1\\n\")\n",
    "\n",
    "docsExp1 = []\n",
    "orgExp1 = \"\"\n",
    "for doc in listdir(pathDataExperiment1):\n",
    "    if doc.endswith(\".txt\"):\n",
    "        if doc[-7:] == \"ORG.txt\":\n",
    "            orgExp1 = pathDataExperiment1 + doc\n",
    "        else:\n",
    "            docsExp1.append(pathDataExperiment1 + doc)\n",
    "            \n",
    "docsExp1.sort(key = lambda x: int(x.split(\"_\")[-1][:-4]))\n",
    "            \n",
    "print(\"DOCS: \" + str(docsExp1) + \"\\n\")\n",
    "print(\"ORG: \" + orgExp1)\n",
    "\n",
    "\n",
    "# DOCUMENTS EXPERIMENT 2\n",
    "\n",
    "print(\"\\n DOCUMENTS EXPERIMENT 2\\n\")\n",
    "\n",
    "docsExp2 = []\n",
    "orgExp2 = \"\"\n",
    "for doc in listdir(pathDataExperiment2):\n",
    "    if doc.endswith(\".txt\"):\n",
    "        if doc == \"AE.txt\":\n",
    "            orgExp2 = pathDataExperiment2 + doc\n",
    "        elif doc == \"AI.txt\":\n",
    "            continue\n",
    "        else:\n",
    "            docsExp2.append(pathDataExperiment2 + doc)\n",
    "            \n",
    "docsExp2.sort(key = lambda x: int(x.split(\"_\")[-1][:-4]))\n",
    "            \n",
    "print(\"DOCS: \" + str(docsExp2) + \"\\n\")\n",
    "print(\"ORG: \" + orgExp2)"
   ]
  },
  {
   "cell_type": "markdown",
   "metadata": {},
   "source": [
    "## Experiments"
   ]
  },
  {
   "cell_type": "markdown",
   "metadata": {},
   "source": [
    "### Experiment I (Small texts) - Model validation (Soft-Cosine Similarity)"
   ]
  },
  {
   "cell_type": "code",
   "execution_count": 4,
   "metadata": {},
   "outputs": [],
   "source": [
    "results11 = []\n",
    "times11 = []\n",
    "\n",
    "for doc in docsExp1:\n",
    "    start_time = time.time()\n",
    "    results11.append(experimentsClass.distance(orgExp1, doc, 0, -1))\n",
    "    times11.append(time.time() - start_time)\n",
    "\n",
    "results11 = [1 - x for x in results11]"
   ]
  },
  {
   "cell_type": "code",
   "execution_count": 6,
   "metadata": {},
   "outputs": [
    {
     "data": {
      "image/png": "[encoded data removed]",
      "text/plain": [
       "<Figure size 432x288 with 1 Axes>"
      ]
     },
     "metadata": {
      "needs_background": "light"
     },
     "output_type": "display_data"
    }
   ],
   "source": [
    "plt.xlabel('# sentences passed')\n",
    "plt.ylabel('distance')\n",
    "\n",
    "plt.plot(list(range(0, 110, 10)), results11)\n",
    "\n",
    "plt.savefig('../../figures/word2vec_exp1_smallText_SoftCosine.png')"
   ]
  },
  {
   "cell_type": "code",
   "execution_count": 7,
   "metadata": {},
   "outputs": [
    {
     "data": {
      "text/plain": [
       "[0.8373443034577772,\n",
       " 0.8043647114836845,\n",
       " 0.7644658433217806,\n",
       " 0.7231194156051639,\n",
       " 0.6530538985989716,\n",
       " 0.6021151445289421,\n",
       " 0.5456547968412497,\n",
       " 0.5115596314104539,\n",
       " 0.4899046540663886,\n",
       " 0.4530937482193509,\n",
       " 0.43072256262644026]"
      ]
     },
     "execution_count": 7,
     "metadata": {},
     "output_type": "execute_result"
    }
   ],
   "source": [
    "results11"
   ]
  },
  {
   "cell_type": "code",
   "execution_count": 8,
   "metadata": {},
   "outputs": [
    {
     "name": "stdout",
     "output_type": "stream",
     "text": [
      "Mean execution time: 3.272972497073087\n"
     ]
    }
   ],
   "source": [
    "print(\"Mean execution time: \" + str(mean(times11)))"
   ]
  },
  {
   "cell_type": "code",
   "execution_count": 9,
   "metadata": {},
   "outputs": [
    {
     "data": {
      "text/plain": [
       "[3.695349931716919,\n",
       " 2.9103636741638184,\n",
       " 4.132259845733643,\n",
       " 3.079501152038574,\n",
       " 3.536520004272461,\n",
       " 2.6706278324127197,\n",
       " 3.8888309001922607,\n",
       " 3.020763874053955,\n",
       " 3.299190044403076,\n",
       " 2.996373176574707,\n",
       " 2.7729170322418213]"
      ]
     },
     "execution_count": 9,
     "metadata": {},
     "output_type": "execute_result"
    }
   ],
   "source": [
    "times11"
   ]
  },
  {
   "cell_type": "markdown",
   "metadata": {},
   "source": [
    "### Experiment I (Small texts) - Model validation (Normal Word Mover's Distance)"
   ]
  },
  {
   "cell_type": "code",
   "execution_count": 11,
   "metadata": {},
   "outputs": [],
   "source": [
    "results12n = []\n",
    "times12n = []\n",
    "\n",
    "for doc in docsExp1:\n",
    "    start_time = time.time()\n",
    "    results12n.append(experimentsClass.distance(orgExp1, doc, 1, False))\n",
    "    times12n.append(time.time() - start_time)"
   ]
  },
  {
   "cell_type": "code",
   "execution_count": 12,
   "metadata": {},
   "outputs": [
    {
     "data": {
      "image/png": "[encoded data removed]",
      "text/plain": [
       "<Figure size 432x288 with 1 Axes>"
      ]
     },
     "metadata": {
      "needs_background": "light"
     },
     "output_type": "display_data"
    }
   ],
   "source": [
    "plt.xlabel('# sentences passed')\n",
    "plt.ylabel('distance')\n",
    "\n",
    "plt.plot(list(range(0, 110, 10)), results12n)\n",
    "\n",
    "plt.savefig('../../figures/word2vec_exp1_smallText_NormalWordMovers.png')"
   ]
  },
  {
   "cell_type": "code",
   "execution_count": 13,
   "metadata": {},
   "outputs": [
    {
     "data": {
      "text/plain": [
       "[0.9685764133278085,\n",
       " 0.9373626305008662,\n",
       " 0.9013578099261742,\n",
       " 0.8681376600126788,\n",
       " 0.8197911346916691,\n",
       " 0.7694785987956645,\n",
       " 0.7355511198472152,\n",
       " 0.7075436013310777,\n",
       " 0.6922805471891833,\n",
       " 0.6645300437918381,\n",
       " 0.6452678703833491]"
      ]
     },
     "execution_count": 13,
     "metadata": {},
     "output_type": "execute_result"
    }
   ],
   "source": [
    "results12n"
   ]
  },
  {
   "cell_type": "code",
   "execution_count": 14,
   "metadata": {},
   "outputs": [
    {
     "name": "stdout",
     "output_type": "stream",
     "text": [
      "Mean execution time: 37.88645746491172\n"
     ]
    }
   ],
   "source": [
    "print(\"Mean execution time: \" + str(mean(times12n)))"
   ]
  },
  {
   "cell_type": "code",
   "execution_count": 15,
   "metadata": {},
   "outputs": [
    {
     "data": {
      "text/plain": [
       "[34.00653004646301,\n",
       " 34.56532669067383,\n",
       " 40.82390809059143,\n",
       " 40.999038219451904,\n",
       " 33.29704689979553,\n",
       " 39.65659284591675,\n",
       " 44.37485885620117,\n",
       " 41.33107781410217,\n",
       " 35.83175706863403,\n",
       " 37.047632694244385,\n",
       " 34.81726288795471]"
      ]
     },
     "execution_count": 15,
     "metadata": {},
     "output_type": "execute_result"
    }
   ],
   "source": [
    "times12n"
   ]
  },
  {
   "cell_type": "markdown",
   "metadata": {},
   "source": [
    "### Experiment I (Small texts) - Model validation (Relaxed Word Mover's Distance)"
   ]
  },
  {
   "cell_type": "code",
   "execution_count": 16,
   "metadata": {},
   "outputs": [],
   "source": [
    "results12r = []\n",
    "times12r = []\n",
    "\n",
    "for doc in docsExp1:\n",
    "    start_time = time.time()\n",
    "    results12r.append(experimentsClass.distance(orgExp1, doc, 1, True))\n",
    "    times12r.append(time.time() - start_time)"
   ]
  },
  {
   "cell_type": "code",
   "execution_count": 17,
   "metadata": {},
   "outputs": [
    {
     "data": {
      "image/png": "[encoded data removed]",
      "text/plain": [
       "<Figure size 432x288 with 1 Axes>"
      ]
     },
     "metadata": {
      "needs_background": "light"
     },
     "output_type": "display_data"
    }
   ],
   "source": [
    "plt.xlabel('# sentences passed')\n",
    "plt.ylabel('distance')\n",
    "\n",
    "plt.plot(list(range(0, 110, 10)), results12r)\n",
    "\n",
    "plt.savefig('../../figures/word2vec_exp1_smallText_RelaxedWordMovers.png')"
   ]
  },
  {
   "cell_type": "code",
   "execution_count": 18,
   "metadata": {},
   "outputs": [
    {
     "data": {
      "text/plain": [
       "[0.8572365045547485,\n",
       " 0.8292422294616699,\n",
       " 0.7945721745491028,\n",
       " 0.7674574255943298,\n",
       " 0.7373602390289307,\n",
       " 0.7039303183555603,\n",
       " 0.6853122711181641,\n",
       " 0.6612838506698608,\n",
       " 0.6531853675842285,\n",
       " 0.6313357353210449,\n",
       " 0.6187763810157776]"
      ]
     },
     "execution_count": 18,
     "metadata": {},
     "output_type": "execute_result"
    }
   ],
   "source": [
    "results12r"
   ]
  },
  {
   "cell_type": "code",
   "execution_count": 19,
   "metadata": {},
   "outputs": [
    {
     "name": "stdout",
     "output_type": "stream",
     "text": [
      "Mean execution time: 0.3850804458964955\n"
     ]
    }
   ],
   "source": [
    "print(\"Mean execution time: \" + str(mean(times12r)))"
   ]
  },
  {
   "cell_type": "code",
   "execution_count": 20,
   "metadata": {},
   "outputs": [
    {
     "data": {
      "text/plain": [
       "[0.508573055267334,\n",
       " 0.34047508239746094,\n",
       " 0.3579678535461426,\n",
       " 0.39603304862976074,\n",
       " 0.36461782455444336,\n",
       " 0.36953210830688477,\n",
       " 0.3646109104156494,\n",
       " 0.33118200302124023,\n",
       " 0.38553905487060547,\n",
       " 0.39786291122436523,\n",
       " 0.4194910526275635]"
      ]
     },
     "execution_count": 20,
     "metadata": {},
     "output_type": "execute_result"
    }
   ],
   "source": [
    "times12r"
   ]
  },
  {
   "cell_type": "markdown",
   "metadata": {},
   "source": [
    "### Experiment II (Big texts) - Model validation (Soft-Cosine Similarity)"
   ]
  },
  {
   "cell_type": "code",
   "execution_count": 21,
   "metadata": {},
   "outputs": [],
   "source": [
    "results21 = []\n",
    "times21 = []\n",
    "\n",
    "for doc in docsExp2:\n",
    "    start_time = time.time()\n",
    "    results21.append(experimentsClass.distance(orgExp2, doc, 0, -1))\n",
    "    times21.append(time.time() - start_time)\n",
    "    \n",
    "results21 = [1 - x for x in results21]"
   ]
  },
  {
   "cell_type": "code",
   "execution_count": 22,
   "metadata": {},
   "outputs": [
    {
     "data": {
      "image/png": "[encoded data removed]",
      "text/plain": [
       "<Figure size 432x288 with 1 Axes>"
      ]
     },
     "metadata": {
      "needs_background": "light"
     },
     "output_type": "display_data"
    }
   ],
   "source": [
    "plt.xlabel('# sentences passed')\n",
    "plt.ylabel('distance')\n",
    "\n",
    "plt.plot(list(range(0, 1010, 10)), results21)\n",
    "\n",
    "plt.savefig('../../figures/word2vec_exp2_bigText_SoftCosine.png')"
   ]
  },
  {
   "cell_type": "code",
   "execution_count": 23,
   "metadata": {},
   "outputs": [
    {
     "data": {
      "text/plain": [
       "[0.9804731147403378,\n",
       " 0.9802738229913219,\n",
       " 0.9801807110485302,\n",
       " 0.9800005538934766,\n",
       " 0.9798648765414272,\n",
       " 0.9795715725973538,\n",
       " 0.9791658232191748,\n",
       " 0.979081728161682,\n",
       " 0.9789768229876679,\n",
       " 0.9788416955554254,\n",
       " 0.9787545099771837,\n",
       " 0.9785320418232436,\n",
       " 0.9783717888121695,\n",
       " 0.9783336329225987,\n",
       " 0.9778955930187764,\n",
       " 0.9776604843126995,\n",
       " 0.9775793723177981,\n",
       " 0.9772788477145455,\n",
       " 0.9772021449757178,\n",
       " 0.9767758564304154,\n",
       " 0.9766344919760738,\n",
       " 0.9763188994995441,\n",
       " 0.9762255512485217,\n",
       " 0.9761105882933327,\n",
       " 0.975790208389815,\n",
       " 0.975410623626857,\n",
       " 0.9750216077146218,\n",
       " 0.9749721991487791,\n",
       " 0.9746111017058418,\n",
       " 0.9745276443000165,\n",
       " 0.9743597078922894,\n",
       " 0.9742950816177341,\n",
       " 0.9741144093465467,\n",
       " 0.9739022741536277,\n",
       " 0.973830624013701,\n",
       " 0.9736119682201209,\n",
       " 0.9732695038653729,\n",
       " 0.9729548915007289,\n",
       " 0.9728111614767517,\n",
       " 0.9727059933394346,\n",
       " 0.9726221084193154,\n",
       " 0.9725884536409131,\n",
       " 0.9723748551835971,\n",
       " 0.9721449683365462,\n",
       " 0.9720107093480987,\n",
       " 0.9718517737273958,\n",
       " 0.9713965463111114,\n",
       " 0.9711261653811893,\n",
       " 0.9707636439640647,\n",
       " 0.9706720757761939,\n",
       " 0.9706241619363951,\n",
       " 0.9704459153057575,\n",
       " 0.9701801398023998,\n",
       " 0.9701087444520811,\n",
       " 0.9698284675368718,\n",
       " 0.9695323947907241,\n",
       " 0.9691826745156474,\n",
       " 0.9690602698983831,\n",
       " 0.9689581756798852,\n",
       " 0.9687846328097307,\n",
       " 0.968567367622668,\n",
       " 0.9683535507946874,\n",
       " 0.9682531543130561,\n",
       " 0.9679910027797668,\n",
       " 0.9674569486951448,\n",
       " 0.9673794018644315,\n",
       " 0.9672801446657714,\n",
       " 0.9671983396092797,\n",
       " 0.9670870872841879,\n",
       " 0.9668744720474115,\n",
       " 0.9665519913806027,\n",
       " 0.9664630864629198,\n",
       " 0.9661239912868358,\n",
       " 0.9660215188704352,\n",
       " 0.9659395093798564,\n",
       " 0.9658606146233155,\n",
       " 0.9656432100620298,\n",
       " 0.9655455462651019,\n",
       " 0.9653694779177804,\n",
       " 0.965118847668051,\n",
       " 0.9650291987962615,\n",
       " 0.9648668315273483,\n",
       " 0.964482492692471,\n",
       " 0.9642988487689098,\n",
       " 0.9640866038050961,\n",
       " 0.9637535231037248,\n",
       " 0.9635810373350516,\n",
       " 0.9630708622574985,\n",
       " 0.9626171565489053,\n",
       " 0.9624890049087869,\n",
       " 0.9624409126887894,\n",
       " 0.9619928508154884,\n",
       " 0.9618335356960415,\n",
       " 0.9617681246068909,\n",
       " 0.9614706811911222,\n",
       " 0.9614278639291589,\n",
       " 0.9611260842787187,\n",
       " 0.9610101965493593,\n",
       " 0.9609523714731443,\n",
       " 0.9607689861781605,\n",
       " 0.9605682236032781]"
      ]
     },
     "execution_count": 23,
     "metadata": {},
     "output_type": "execute_result"
    }
   ],
   "source": [
    "results21"
   ]
  },
  {
   "cell_type": "code",
   "execution_count": 24,
   "metadata": {},
   "outputs": [
    {
     "name": "stdout",
     "output_type": "stream",
     "text": [
      "Mean execution time: 21.199517809518493\n"
     ]
    }
   ],
   "source": [
    "print(\"Mean execution time: \" + str(mean(times21)))"
   ]
  },
  {
   "cell_type": "code",
   "execution_count": 32,
   "metadata": {},
   "outputs": [
    {
     "name": "stdout",
     "output_type": "stream",
     "text": [
      "Stdev execution time: 3.2242053142896414\n"
     ]
    }
   ],
   "source": [
    "print(\"Stdev execution time: \" + str(stdev(times21)))"
   ]
  },
  {
   "cell_type": "code",
   "execution_count": 25,
   "metadata": {},
   "outputs": [
    {
     "data": {
      "text/plain": [
       "[22.998167037963867,\n",
       " 18.612845182418823,\n",
       " 18.75726318359375,\n",
       " 18.66329073905945,\n",
       " 19.285535097122192,\n",
       " 20.387266635894775,\n",
       " 18.626755237579346,\n",
       " 18.425336837768555,\n",
       " 19.239057064056396,\n",
       " 19.95474910736084,\n",
       " 19.171804189682007,\n",
       " 18.309789180755615,\n",
       " 18.51913595199585,\n",
       " 19.233487129211426,\n",
       " 19.55919909477234,\n",
       " 18.509407997131348,\n",
       " 18.3177170753479,\n",
       " 18.65227174758911,\n",
       " 18.818954944610596,\n",
       " 18.969249963760376,\n",
       " 18.984814167022705,\n",
       " 19.693756818771362,\n",
       " 18.534905910491943,\n",
       " 19.021212816238403,\n",
       " 18.87314200401306,\n",
       " 18.45577383041382,\n",
       " 19.197951078414917,\n",
       " 18.989052057266235,\n",
       " 19.239802837371826,\n",
       " 21.090685844421387,\n",
       " 19.46600604057312,\n",
       " 18.519938230514526,\n",
       " 21.932926893234253,\n",
       " 26.43396806716919,\n",
       " 25.188156127929688,\n",
       " 21.40689182281494,\n",
       " 22.29836916923523,\n",
       " 27.16173791885376,\n",
       " 25.01485800743103,\n",
       " 26.358779907226562,\n",
       " 26.086416959762573,\n",
       " 25.398417949676514,\n",
       " 24.266259908676147,\n",
       " 23.412989854812622,\n",
       " 24.840951681137085,\n",
       " 27.018006086349487,\n",
       " 28.839098930358887,\n",
       " 29.070796012878418,\n",
       " 24.861103773117065,\n",
       " 27.921459913253784,\n",
       " 29.715062141418457,\n",
       " 29.253835916519165,\n",
       " 23.8803870677948,\n",
       " 23.613382816314697,\n",
       " 22.820621967315674,\n",
       " 24.755916833877563,\n",
       " 22.200325965881348,\n",
       " 21.044147968292236,\n",
       " 19.88686180114746,\n",
       " 19.736700773239136,\n",
       " 19.20054602622986,\n",
       " 19.24764108657837,\n",
       " 22.47926616668701,\n",
       " 20.371611833572388,\n",
       " 23.10639476776123,\n",
       " 23.835237979888916,\n",
       " 24.64892816543579,\n",
       " 26.653345823287964,\n",
       " 19.296173810958862,\n",
       " 20.00843381881714,\n",
       " 20.524518966674805,\n",
       " 25.751718759536743,\n",
       " 30.465980291366577,\n",
       " 21.446911096572876,\n",
       " 18.99997901916504,\n",
       " 21.187312841415405,\n",
       " 18.8737370967865,\n",
       " 18.66584277153015,\n",
       " 18.66043519973755,\n",
       " 18.85589599609375,\n",
       " 18.668689727783203,\n",
       " 19.160364151000977,\n",
       " 18.85887384414673,\n",
       " 18.899195909500122,\n",
       " 18.917453050613403,\n",
       " 18.840925931930542,\n",
       " 18.84853482246399,\n",
       " 19.767329931259155,\n",
       " 19.679851055145264,\n",
       " 18.795141220092773,\n",
       " 22.033583879470825,\n",
       " 18.86052894592285,\n",
       " 18.720072031021118,\n",
       " 18.786874771118164,\n",
       " 18.76872205734253,\n",
       " 18.768585920333862,\n",
       " 18.77019500732422,\n",
       " 19.073351860046387,\n",
       " 18.916359901428223,\n",
       " 19.328535079956055,\n",
       " 18.911460876464844]"
      ]
     },
     "execution_count": 25,
     "metadata": {},
     "output_type": "execute_result"
    }
   ],
   "source": [
    "times21"
   ]
  },
  {
   "cell_type": "markdown",
   "metadata": {},
   "source": [
    "### Experiment II (Big texts) - Model validation (Word Mover's Distance)"
   ]
  },
  {
   "cell_type": "code",
   "execution_count": 26,
   "metadata": {},
   "outputs": [],
   "source": [
    "results22 = []\n",
    "times22 = []\n",
    "\n",
    "for doc in docsExp2:\n",
    "    start_time = time.time()\n",
    "    results22.append(experimentsClass.distance(orgExp2, doc, 1, True))\n",
    "    times22.append(time.time() - start_time)"
   ]
  },
  {
   "cell_type": "code",
   "execution_count": 27,
   "metadata": {},
   "outputs": [
    {
     "data": {
      "image/png": "[encoded data removed]",
      "text/plain": [
       "<Figure size 432x288 with 1 Axes>"
      ]
     },
     "metadata": {
      "needs_background": "light"
     },
     "output_type": "display_data"
    }
   ],
   "source": [
    "plt.xlabel('# sentences passed')\n",
    "plt.ylabel('distance')\n",
    "\n",
    "plt.plot(list(range(0, 1010, 10)), results22)\n",
    "\n",
    "plt.savefig('../../figures/word2vec_exp2_bigText_WordMovers.png')"
   ]
  },
  {
   "cell_type": "code",
   "execution_count": 28,
   "metadata": {},
   "outputs": [
    {
     "data": {
      "text/plain": [
       "[0.7060697078704834,\n",
       " 0.7033292651176453,\n",
       " 0.7018851637840271,\n",
       " 0.69927978515625,\n",
       " 0.6981016397476196,\n",
       " 0.6949396133422852,\n",
       " 0.6916301846504211,\n",
       " 0.6895061731338501,\n",
       " 0.6874445080757141,\n",
       " 0.6862085461616516,\n",
       " 0.6857061982154846,\n",
       " 0.684668242931366,\n",
       " 0.6844307780265808,\n",
       " 0.6839209198951721,\n",
       " 0.680671215057373,\n",
       " 0.6793859601020813,\n",
       " 0.678180456161499,\n",
       " 0.6768983602523804,\n",
       " 0.6760365962982178,\n",
       " 0.6748226284980774,\n",
       " 0.6731303930282593,\n",
       " 0.6702390313148499,\n",
       " 0.6696975827217102,\n",
       " 0.6691920161247253,\n",
       " 0.6684340238571167,\n",
       " 0.6672874093055725,\n",
       " 0.6665198802947998,\n",
       " 0.6656317710876465,\n",
       " 0.6648168563842773,\n",
       " 0.664075493812561,\n",
       " 0.6632370352745056,\n",
       " 0.662693977355957,\n",
       " 0.6620811820030212,\n",
       " 0.660895049571991,\n",
       " 0.6598131656646729,\n",
       " 0.6591917872428894,\n",
       " 0.658577024936676,\n",
       " 0.65756756067276,\n",
       " 0.657401442527771,\n",
       " 0.6557863354682922,\n",
       " 0.6547098755836487,\n",
       " 0.6537600159645081,\n",
       " 0.6524283289909363,\n",
       " 0.6517912149429321,\n",
       " 0.6513413190841675,\n",
       " 0.6505937576293945,\n",
       " 0.6498677730560303,\n",
       " 0.6483381390571594,\n",
       " 0.6479652523994446,\n",
       " 0.6471945643424988,\n",
       " 0.6467633247375488,\n",
       " 0.6457424759864807,\n",
       " 0.6453069448471069,\n",
       " 0.6446647644042969,\n",
       " 0.6438343524932861,\n",
       " 0.6432740092277527,\n",
       " 0.6425614356994629,\n",
       " 0.6423512101173401,\n",
       " 0.6416510939598083,\n",
       " 0.640662670135498,\n",
       " 0.6396400928497314,\n",
       " 0.6395125985145569,\n",
       " 0.6389551162719727,\n",
       " 0.6379927396774292,\n",
       " 0.6376830339431763,\n",
       " 0.6374425888061523,\n",
       " 0.6370106339454651,\n",
       " 0.6363130807876587,\n",
       " 0.6355674266815186,\n",
       " 0.6351930499076843,\n",
       " 0.6343397498130798,\n",
       " 0.6341544389724731,\n",
       " 0.633614182472229,\n",
       " 0.6329404711723328,\n",
       " 0.6326949596405029,\n",
       " 0.6324953436851501,\n",
       " 0.6320561170578003,\n",
       " 0.6314609050750732,\n",
       " 0.6309477686882019,\n",
       " 0.6300530433654785,\n",
       " 0.6297214031219482,\n",
       " 0.6294174790382385,\n",
       " 0.628605306148529,\n",
       " 0.6281917691230774,\n",
       " 0.6278768181800842,\n",
       " 0.6271702647209167,\n",
       " 0.6256005167961121,\n",
       " 0.6251068711280823,\n",
       " 0.6239024996757507,\n",
       " 0.6238073110580444,\n",
       " 0.6233329176902771,\n",
       " 0.6227623224258423,\n",
       " 0.6226909756660461,\n",
       " 0.6224961876869202,\n",
       " 0.6216186881065369,\n",
       " 0.6212458610534668,\n",
       " 0.6207515597343445,\n",
       " 0.6203733086585999,\n",
       " 0.6197029948234558,\n",
       " 0.6190941333770752,\n",
       " 0.6184870004653931]"
      ]
     },
     "execution_count": 28,
     "metadata": {},
     "output_type": "execute_result"
    }
   ],
   "source": [
    "results22"
   ]
  },
  {
   "cell_type": "code",
   "execution_count": 29,
   "metadata": {},
   "outputs": [
    {
     "name": "stdout",
     "output_type": "stream",
     "text": [
      "Mean execution time: 129.06265387440672\n"
     ]
    }
   ],
   "source": [
    "print(\"Mean execution time: \" + str(mean(times22)))"
   ]
  },
  {
   "cell_type": "code",
   "execution_count": 33,
   "metadata": {},
   "outputs": [
    {
     "name": "stdout",
     "output_type": "stream",
     "text": [
      "Stdev execution time: 230.9860709537625\n"
     ]
    }
   ],
   "source": [
    "print(\"Stdev execution time: \" + str(stdev(times22)))"
   ]
  },
  {
   "cell_type": "code",
   "execution_count": 30,
   "metadata": {},
   "outputs": [
    {
     "data": {
      "text/plain": [
       "[61.280134201049805,\n",
       " 61.49137783050537,\n",
       " 56.56311297416687,\n",
       " 56.019126892089844,\n",
       " 55.69645094871521,\n",
       " 61.142499923706055,\n",
       " 59.73068594932556,\n",
       " 55.96108675003052,\n",
       " 51.868605852127075,\n",
       " 55.99481701850891,\n",
       " 54.94674110412598,\n",
       " 78.48764181137085,\n",
       " 85.50540518760681,\n",
       " 68.59348106384277,\n",
       " 55.09164595603943,\n",
       " 54.58310890197754,\n",
       " 63.650323152542114,\n",
       " 66.29989099502563,\n",
       " 67.68695664405823,\n",
       " 54.18709397315979,\n",
       " 61.803207874298096,\n",
       " 59.21928381919861,\n",
       " 63.86291193962097,\n",
       " 63.62260317802429,\n",
       " 334.85267782211304,\n",
       " 2319.981969833374,\n",
       " 82.8614490032196,\n",
       " 98.68484997749329,\n",
       " 112.86402606964111,\n",
       " 123.22355198860168,\n",
       " 101.7893419265747,\n",
       " 94.50675773620605,\n",
       " 112.41272711753845,\n",
       " 123.96100306510925,\n",
       " 99.11815595626831,\n",
       " 86.55656099319458,\n",
       " 84.13387107849121,\n",
       " 89.90644192695618,\n",
       " 91.70754098892212,\n",
       " 80.27621412277222,\n",
       " 138.60241103172302,\n",
       " 121.81751489639282,\n",
       " 107.51497387886047,\n",
       " 109.37784314155579,\n",
       " 118.0429151058197,\n",
       " 113.70777201652527,\n",
       " 117.54419088363647,\n",
       " 122.02487802505493,\n",
       " 116.73367118835449,\n",
       " 111.79921913146973,\n",
       " 125.14474391937256,\n",
       " 116.42074489593506,\n",
       " 120.13223505020142,\n",
       " 118.49951577186584,\n",
       " 123.9293622970581,\n",
       " 127.30137276649475,\n",
       " 114.07575917243958,\n",
       " 131.99925780296326,\n",
       " 122.70257997512817,\n",
       " 114.83161401748657,\n",
       " 107.18152809143066,\n",
       " 110.06593680381775,\n",
       " 122.63840413093567,\n",
       " 119.79525685310364,\n",
       " 114.3905999660492,\n",
       " 115.74828100204468,\n",
       " 118.41973876953125,\n",
       " 110.07784986495972,\n",
       " 122.07149004936218,\n",
       " 127.96291780471802,\n",
       " 113.47974491119385,\n",
       " 117.16787099838257,\n",
       " 110.08612871170044,\n",
       " 113.58153510093689,\n",
       " 123.3040840625763,\n",
       " 112.39665269851685,\n",
       " 117.78604507446289,\n",
       " 113.62304401397705,\n",
       " 107.28860330581665,\n",
       " 112.60070300102234,\n",
       " 118.19328904151917,\n",
       " 109.43840909004211,\n",
       " 107.0319709777832,\n",
       " 112.83947396278381,\n",
       " 115.7872269153595,\n",
       " 115.38340997695923,\n",
       " 114.22453594207764,\n",
       " 126.10743975639343,\n",
       " 124.00776863098145,\n",
       " 122.36960792541504,\n",
       " 137.83793187141418,\n",
       " 120.38593530654907,\n",
       " 709.2195851802826,\n",
       " 152.48115301132202,\n",
       " 72.28431391716003,\n",
       " 70.88904094696045,\n",
       " 69.73084306716919,\n",
       " 78.35297775268555,\n",
       " 84.57246613502502,\n",
       " 67.2399890422821,\n",
       " 94.95634913444519]"
      ]
     },
     "execution_count": 30,
     "metadata": {},
     "output_type": "execute_result"
    }
   ],
   "source": [
    "times22"
   ]
  },
  {
   "cell_type": "code",
   "execution_count": null,
   "metadata": {},
   "outputs": [],
   "source": []
  }
 ],
 "metadata": {
  "kernelspec": {
   "display_name": "Python 3",
   "language": "python",
   "name": "python3"
  },
  "language_info": {
   "codemirror_mode": {
    "name": "ipython",
    "version": 3
   },
   "file_extension": ".py",
   "mimetype": "text/x-python",
   "name": "python",
   "nbconvert_exporter": "python",
   "pygments_lexer": "ipython3",
   "version": "3.7.9"
  }
 },
 "nbformat": 4,
 "nbformat_minor": 4
}
